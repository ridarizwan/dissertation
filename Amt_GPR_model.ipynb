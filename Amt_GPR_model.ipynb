{
  "nbformat": 4,
  "nbformat_minor": 0,
  "metadata": {
    "colab": {
      "provenance": [],
      "gpuType": "T4"
    },
    "kernelspec": {
      "name": "python3",
      "display_name": "Python 3"
    },
    "language_info": {
      "name": "python"
    },
    "widgets": {
      "application/vnd.jupyter.widget-state+json": {
        "47357b8c52a54b3994fcafd6749bcbba": {
          "model_module": "@jupyter-widgets/controls",
          "model_name": "HBoxModel",
          "model_module_version": "1.5.0",
          "state": {
            "_dom_classes": [],
            "_model_module": "@jupyter-widgets/controls",
            "_model_module_version": "1.5.0",
            "_model_name": "HBoxModel",
            "_view_count": null,
            "_view_module": "@jupyter-widgets/controls",
            "_view_module_version": "1.5.0",
            "_view_name": "HBoxView",
            "box_style": "",
            "children": [
              "IPY_MODEL_e4be137d09d84413880baec5725d4778",
              "IPY_MODEL_41413fa2283f4c188e52ecd48cc7ea4c"
            ],
            "layout": "IPY_MODEL_6a0822b5923942da9c0bfea94fd4d35e"
          }
        },
        "e4be137d09d84413880baec5725d4778": {
          "model_module": "@jupyter-widgets/controls",
          "model_name": "VBoxModel",
          "model_module_version": "1.5.0",
          "state": {
            "_dom_classes": [],
            "_model_module": "@jupyter-widgets/controls",
            "_model_module_version": "1.5.0",
            "_model_name": "VBoxModel",
            "_view_count": null,
            "_view_module": "@jupyter-widgets/controls",
            "_view_module_version": "1.5.0",
            "_view_name": "VBoxView",
            "box_style": "",
            "children": [
              "IPY_MODEL_6d1cc0405e6e4053bf4e19e10d4c2c23",
              "IPY_MODEL_2fc35b7743cb4a758cd935478323f633"
            ],
            "layout": "IPY_MODEL_5641e756becd4b5d9f4972909c9dfc21"
          }
        },
        "41413fa2283f4c188e52ecd48cc7ea4c": {
          "model_module": "@jupyter-widgets/controls",
          "model_name": "BoxModel",
          "model_module_version": "1.5.0",
          "state": {
            "_dom_classes": [],
            "_model_module": "@jupyter-widgets/controls",
            "_model_module_version": "1.5.0",
            "_model_name": "BoxModel",
            "_view_count": null,
            "_view_module": "@jupyter-widgets/controls",
            "_view_module_version": "1.5.0",
            "_view_name": "BoxView",
            "box_style": "",
            "children": [
              "IPY_MODEL_74874342053d45fc84fd9094707b230b"
            ],
            "layout": "IPY_MODEL_d7ac0bfa50c147b18108874d7e5d09d4"
          }
        },
        "6a0822b5923942da9c0bfea94fd4d35e": {
          "model_module": "@jupyter-widgets/base",
          "model_name": "LayoutModel",
          "model_module_version": "1.2.0",
          "state": {
            "_model_module": "@jupyter-widgets/base",
            "_model_module_version": "1.2.0",
            "_model_name": "LayoutModel",
            "_view_count": null,
            "_view_module": "@jupyter-widgets/base",
            "_view_module_version": "1.2.0",
            "_view_name": "LayoutView",
            "align_content": null,
            "align_items": null,
            "align_self": null,
            "border": null,
            "bottom": null,
            "display": null,
            "flex": null,
            "flex_flow": null,
            "grid_area": null,
            "grid_auto_columns": null,
            "grid_auto_flow": null,
            "grid_auto_rows": null,
            "grid_column": null,
            "grid_gap": null,
            "grid_row": null,
            "grid_template_areas": null,
            "grid_template_columns": null,
            "grid_template_rows": null,
            "height": null,
            "justify_content": null,
            "justify_items": null,
            "left": null,
            "margin": null,
            "max_height": null,
            "max_width": null,
            "min_height": null,
            "min_width": null,
            "object_fit": null,
            "object_position": null,
            "order": null,
            "overflow": null,
            "overflow_x": null,
            "overflow_y": null,
            "padding": null,
            "right": null,
            "top": null,
            "visibility": null,
            "width": null
          }
        },
        "6d1cc0405e6e4053bf4e19e10d4c2c23": {
          "model_module": "@jupyter-widgets/controls",
          "model_name": "IntProgressModel",
          "model_module_version": "1.5.0",
          "state": {
            "_dom_classes": [],
            "_model_module": "@jupyter-widgets/controls",
            "_model_module_version": "1.5.0",
            "_model_name": "IntProgressModel",
            "_view_count": null,
            "_view_module": "@jupyter-widgets/controls",
            "_view_module_version": "1.5.0",
            "_view_name": "ProgressView",
            "bar_style": "success",
            "description": "",
            "description_tooltip": null,
            "layout": "IPY_MODEL_8bf79d20728342baa19d97d193e9ced9",
            "max": 1000,
            "min": 0,
            "orientation": "horizontal",
            "style": "IPY_MODEL_1fc1ad55fb3d4d2dbd50d55f51f0c31e",
            "value": 50
          }
        },
        "2fc35b7743cb4a758cd935478323f633": {
          "model_module": "@jupyter-widgets/controls",
          "model_name": "HTMLModel",
          "model_module_version": "1.5.0",
          "state": {
            "_dom_classes": [],
            "_model_module": "@jupyter-widgets/controls",
            "_model_module_version": "1.5.0",
            "_model_name": "HTMLModel",
            "_view_count": null,
            "_view_module": "@jupyter-widgets/controls",
            "_view_module_version": "1.5.0",
            "_view_name": "HTMLView",
            "description": "",
            "description_tooltip": null,
            "layout": "IPY_MODEL_027b60b4ba1d4aec902497fccce2fd81",
            "placeholder": "​",
            "style": "IPY_MODEL_387dfafc59864634a43e6d5155449959",
            "value": "<style type=\"text/css\">\n    .tg-opt  {font-family:\"Courier New\", Courier, monospace !important;padding:2px 3px;word-break:normal;border-collapse:collapse;border-spacing:0;border-color:#DCDCDC;margin:0px auto;width:100%;}\n    .tg-opt td{font-family:\"Courier New\", Courier, monospace !important;font-weight:bold;color:#444;background-color:#F7FDFA;border-style:solid;border-width:1px;overflow:hidden;word-break:normal;border-color:#DCDCDC;}\n    .tg-opt th{font-family:\"Courier New\", Courier, monospace !important;font-weight:normal;color:#fff;background-color:#26ADE4;border-style:solid;border-width:1px;overflow:hidden;word-break:normal;border-color:#DCDCDC;}\n    .tg-opt .tg-left{font-family:\"Courier New\", Courier, monospace !important;font-weight:normal;text-align:left;}\n    .tg-opt .tg-right{font-family:\"Courier New\", Courier, monospace !important;font-weight:normal;text-align:right;}\n    </style>\n    <table class=\"tg-opt\"><tr><td class='tg-left'>optimizer</td><td class='tg-right'>L-BFGS-B (Scipy implementation)</td></tr><tr><td class='tg-left'>runtime</td><td class='tg-right'>01m01s27</td></tr><tr><td class='tg-left'>evaluation</td><td class='tg-right'>0049</td></tr><tr><td class='tg-left'>objective</td><td class='tg-right'>   1.060E+04</td></tr><tr><td class='tg-left'>||gradient||</td><td class='tg-right'>  +1.137E-05</td></tr><tr><td class='tg-left'>status</td><td class='tg-right'>Converged</td></tr></table>"
          }
        },
        "5641e756becd4b5d9f4972909c9dfc21": {
          "model_module": "@jupyter-widgets/base",
          "model_name": "LayoutModel",
          "model_module_version": "1.2.0",
          "state": {
            "_model_module": "@jupyter-widgets/base",
            "_model_module_version": "1.2.0",
            "_model_name": "LayoutModel",
            "_view_count": null,
            "_view_module": "@jupyter-widgets/base",
            "_view_module_version": "1.2.0",
            "_view_name": "LayoutView",
            "align_content": null,
            "align_items": null,
            "align_self": null,
            "border": null,
            "bottom": null,
            "display": null,
            "flex": null,
            "flex_flow": null,
            "grid_area": null,
            "grid_auto_columns": null,
            "grid_auto_flow": null,
            "grid_auto_rows": null,
            "grid_column": null,
            "grid_gap": null,
            "grid_row": null,
            "grid_template_areas": null,
            "grid_template_columns": null,
            "grid_template_rows": null,
            "height": null,
            "justify_content": null,
            "justify_items": null,
            "left": null,
            "margin": null,
            "max_height": null,
            "max_width": null,
            "min_height": null,
            "min_width": null,
            "object_fit": null,
            "object_position": null,
            "order": null,
            "overflow": null,
            "overflow_x": null,
            "overflow_y": null,
            "padding": null,
            "right": null,
            "top": null,
            "visibility": null,
            "width": null
          }
        },
        "74874342053d45fc84fd9094707b230b": {
          "model_module": "@jupyter-widgets/controls",
          "model_name": "HTMLModel",
          "model_module_version": "1.5.0",
          "state": {
            "_dom_classes": [],
            "_model_module": "@jupyter-widgets/controls",
            "_model_module_version": "1.5.0",
            "_model_name": "HTMLModel",
            "_view_count": null,
            "_view_module": "@jupyter-widgets/controls",
            "_view_module_version": "1.5.0",
            "_view_name": "HTMLView",
            "description": "",
            "description_tooltip": null,
            "layout": "IPY_MODEL_34d4d92db77e4bcfa0251eda9f28c091",
            "placeholder": "​",
            "style": "IPY_MODEL_0f1e1e7949e94f5fafdd2a1bf63f03af",
            "value": "<style type=\"text/css\">\n.pd{\n    font-family: \"Courier New\", Courier, monospace !important;\n    width: 100%;\n    padding: 3px;\n}\n</style>\n\n<p class=pd>\n<b>Model</b>: GP regression<br>\n<b>Objective</b>: 10604.277819795161<br>\n<b>Number of Parameters</b>: 3<br>\n<b>Number of Optimization Parameters</b>: 3<br>\n<b>Updates</b>: True<br>\n</p>\n<style type=\"text/css\">\n.tg  {font-family:\"Courier New\", Courier, monospace !important;padding:2px 3px;word-break:normal;border-collapse:collapse;border-spacing:0;border-color:#DCDCDC;margin:0px auto;width:100%;}\n.tg td{font-family:\"Courier New\", Courier, monospace !important;font-weight:bold;color:#444;background-color:#F7FDFA;border-style:solid;border-width:1px;overflow:hidden;word-break:normal;border-color:#DCDCDC;}\n.tg th{font-family:\"Courier New\", Courier, monospace !important;font-weight:normal;color:#fff;background-color:#26ADE4;border-style:solid;border-width:1px;overflow:hidden;word-break:normal;border-color:#DCDCDC;}\n.tg .tg-left{font-family:\"Courier New\", Courier, monospace !important;font-weight:normal;text-align:left;}\n.tg .tg-center{font-family:\"Courier New\", Courier, monospace !important;font-weight:normal;text-align:center;}\n.tg .tg-right{font-family:\"Courier New\", Courier, monospace !important;font-weight:normal;text-align:right;}\n</style>\n<table class=\"tg\"><tr><th><b>  GP_regression.         </b></th><th><b>             value</b></th><th><b>constraints</b></th><th><b>priors</b></th></tr>\n<tr><td class=tg-left>  rbf.variance           </td><td class=tg-right> 827.5669363990935</td><td class=tg-center>    +ve    </td><td class=tg-center>      </td></tr>\n<tr><td class=tg-left>  rbf.lengthscale        </td><td class=tg-right>5.3546241145696305</td><td class=tg-center>    +ve    </td><td class=tg-center>      </td></tr>\n<tr><td class=tg-left>  Gaussian_noise.variance</td><td class=tg-right>2200.4792651433645</td><td class=tg-center>    +ve    </td><td class=tg-center>      </td></tr>\n</table>"
          }
        },
        "d7ac0bfa50c147b18108874d7e5d09d4": {
          "model_module": "@jupyter-widgets/base",
          "model_name": "LayoutModel",
          "model_module_version": "1.2.0",
          "state": {
            "_model_module": "@jupyter-widgets/base",
            "_model_module_version": "1.2.0",
            "_model_name": "LayoutModel",
            "_view_count": null,
            "_view_module": "@jupyter-widgets/base",
            "_view_module_version": "1.2.0",
            "_view_name": "LayoutView",
            "align_content": null,
            "align_items": null,
            "align_self": null,
            "border": null,
            "bottom": null,
            "display": null,
            "flex": null,
            "flex_flow": null,
            "grid_area": null,
            "grid_auto_columns": null,
            "grid_auto_flow": null,
            "grid_auto_rows": null,
            "grid_column": null,
            "grid_gap": null,
            "grid_row": null,
            "grid_template_areas": null,
            "grid_template_columns": null,
            "grid_template_rows": null,
            "height": null,
            "justify_content": null,
            "justify_items": null,
            "left": null,
            "margin": null,
            "max_height": null,
            "max_width": null,
            "min_height": null,
            "min_width": null,
            "object_fit": null,
            "object_position": null,
            "order": null,
            "overflow": null,
            "overflow_x": null,
            "overflow_y": null,
            "padding": null,
            "right": null,
            "top": null,
            "visibility": null,
            "width": null
          }
        },
        "8bf79d20728342baa19d97d193e9ced9": {
          "model_module": "@jupyter-widgets/base",
          "model_name": "LayoutModel",
          "model_module_version": "1.2.0",
          "state": {
            "_model_module": "@jupyter-widgets/base",
            "_model_module_version": "1.2.0",
            "_model_name": "LayoutModel",
            "_view_count": null,
            "_view_module": "@jupyter-widgets/base",
            "_view_module_version": "1.2.0",
            "_view_name": "LayoutView",
            "align_content": null,
            "align_items": null,
            "align_self": null,
            "border": null,
            "bottom": null,
            "display": null,
            "flex": null,
            "flex_flow": null,
            "grid_area": null,
            "grid_auto_columns": null,
            "grid_auto_flow": null,
            "grid_auto_rows": null,
            "grid_column": null,
            "grid_gap": null,
            "grid_row": null,
            "grid_template_areas": null,
            "grid_template_columns": null,
            "grid_template_rows": null,
            "height": null,
            "justify_content": null,
            "justify_items": null,
            "left": null,
            "margin": null,
            "max_height": null,
            "max_width": null,
            "min_height": null,
            "min_width": null,
            "object_fit": null,
            "object_position": null,
            "order": null,
            "overflow": null,
            "overflow_x": null,
            "overflow_y": null,
            "padding": null,
            "right": null,
            "top": null,
            "visibility": null,
            "width": null
          }
        },
        "1fc1ad55fb3d4d2dbd50d55f51f0c31e": {
          "model_module": "@jupyter-widgets/controls",
          "model_name": "ProgressStyleModel",
          "model_module_version": "1.5.0",
          "state": {
            "_model_module": "@jupyter-widgets/controls",
            "_model_module_version": "1.5.0",
            "_model_name": "ProgressStyleModel",
            "_view_count": null,
            "_view_module": "@jupyter-widgets/base",
            "_view_module_version": "1.2.0",
            "_view_name": "StyleView",
            "bar_color": null,
            "description_width": ""
          }
        },
        "027b60b4ba1d4aec902497fccce2fd81": {
          "model_module": "@jupyter-widgets/base",
          "model_name": "LayoutModel",
          "model_module_version": "1.2.0",
          "state": {
            "_model_module": "@jupyter-widgets/base",
            "_model_module_version": "1.2.0",
            "_model_name": "LayoutModel",
            "_view_count": null,
            "_view_module": "@jupyter-widgets/base",
            "_view_module_version": "1.2.0",
            "_view_name": "LayoutView",
            "align_content": null,
            "align_items": null,
            "align_self": null,
            "border": null,
            "bottom": null,
            "display": null,
            "flex": null,
            "flex_flow": null,
            "grid_area": null,
            "grid_auto_columns": null,
            "grid_auto_flow": null,
            "grid_auto_rows": null,
            "grid_column": null,
            "grid_gap": null,
            "grid_row": null,
            "grid_template_areas": null,
            "grid_template_columns": null,
            "grid_template_rows": null,
            "height": null,
            "justify_content": null,
            "justify_items": null,
            "left": null,
            "margin": null,
            "max_height": null,
            "max_width": null,
            "min_height": null,
            "min_width": null,
            "object_fit": null,
            "object_position": null,
            "order": null,
            "overflow": null,
            "overflow_x": null,
            "overflow_y": null,
            "padding": null,
            "right": null,
            "top": null,
            "visibility": null,
            "width": null
          }
        },
        "387dfafc59864634a43e6d5155449959": {
          "model_module": "@jupyter-widgets/controls",
          "model_name": "DescriptionStyleModel",
          "model_module_version": "1.5.0",
          "state": {
            "_model_module": "@jupyter-widgets/controls",
            "_model_module_version": "1.5.0",
            "_model_name": "DescriptionStyleModel",
            "_view_count": null,
            "_view_module": "@jupyter-widgets/base",
            "_view_module_version": "1.2.0",
            "_view_name": "StyleView",
            "description_width": ""
          }
        },
        "34d4d92db77e4bcfa0251eda9f28c091": {
          "model_module": "@jupyter-widgets/base",
          "model_name": "LayoutModel",
          "model_module_version": "1.2.0",
          "state": {
            "_model_module": "@jupyter-widgets/base",
            "_model_module_version": "1.2.0",
            "_model_name": "LayoutModel",
            "_view_count": null,
            "_view_module": "@jupyter-widgets/base",
            "_view_module_version": "1.2.0",
            "_view_name": "LayoutView",
            "align_content": null,
            "align_items": null,
            "align_self": null,
            "border": null,
            "bottom": null,
            "display": null,
            "flex": null,
            "flex_flow": null,
            "grid_area": null,
            "grid_auto_columns": null,
            "grid_auto_flow": null,
            "grid_auto_rows": null,
            "grid_column": null,
            "grid_gap": null,
            "grid_row": null,
            "grid_template_areas": null,
            "grid_template_columns": null,
            "grid_template_rows": null,
            "height": null,
            "justify_content": null,
            "justify_items": null,
            "left": null,
            "margin": null,
            "max_height": null,
            "max_width": null,
            "min_height": null,
            "min_width": null,
            "object_fit": null,
            "object_position": null,
            "order": null,
            "overflow": null,
            "overflow_x": null,
            "overflow_y": null,
            "padding": null,
            "right": null,
            "top": null,
            "visibility": null,
            "width": null
          }
        },
        "0f1e1e7949e94f5fafdd2a1bf63f03af": {
          "model_module": "@jupyter-widgets/controls",
          "model_name": "DescriptionStyleModel",
          "model_module_version": "1.5.0",
          "state": {
            "_model_module": "@jupyter-widgets/controls",
            "_model_module_version": "1.5.0",
            "_model_name": "DescriptionStyleModel",
            "_view_count": null,
            "_view_module": "@jupyter-widgets/base",
            "_view_module_version": "1.2.0",
            "_view_name": "StyleView",
            "description_width": ""
          }
        }
      }
    }
  },
  "cells": [
    {
      "cell_type": "code",
      "execution_count": 2,
      "metadata": {
        "colab": {
          "base_uri": "https://localhost:8080/"
        },
        "id": "VAzDrmxKq3Q5",
        "outputId": "f250a86a-1113-4f9c-ae2d-67298cb4ce3a"
      },
      "outputs": [
        {
          "output_type": "stream",
          "name": "stdout",
          "text": [
            "Found existing installation: scipy 1.13.1\n",
            "Uninstalling scipy-1.13.1:\n",
            "  Successfully uninstalled scipy-1.13.1\n",
            "Collecting scipy==1.10.0\n",
            "  Downloading scipy-1.10.0-cp310-cp310-manylinux_2_17_x86_64.manylinux2014_x86_64.whl.metadata (58 kB)\n",
            "\u001b[2K     \u001b[90m━━━━━━━━━━━━━━━━━━━━━━━━━━━━━━━━━━━━━━━━\u001b[0m \u001b[32m58.9/58.9 kB\u001b[0m \u001b[31m4.1 MB/s\u001b[0m eta \u001b[36m0:00:00\u001b[0m\n",
            "\u001b[?25hRequirement already satisfied: numpy<1.27.0,>=1.19.5 in /usr/local/lib/python3.10/dist-packages (from scipy==1.10.0) (1.26.4)\n",
            "Downloading scipy-1.10.0-cp310-cp310-manylinux_2_17_x86_64.manylinux2014_x86_64.whl (34.4 MB)\n",
            "\u001b[2K   \u001b[90m━━━━━━━━━━━━━━━━━━━━━━━━━━━━━━━━━━━━━━━━\u001b[0m \u001b[32m34.4/34.4 MB\u001b[0m \u001b[31m52.9 MB/s\u001b[0m eta \u001b[36m0:00:00\u001b[0m\n",
            "\u001b[?25hInstalling collected packages: scipy\n",
            "Successfully installed scipy-1.10.0\n",
            "Collecting Gpy\n",
            "  Downloading GPy-1.13.2-cp310-cp310-manylinux_2_17_x86_64.manylinux2014_x86_64.whl.metadata (2.3 kB)\n",
            "Collecting GPyOpt\n",
            "  Downloading GPyOpt-1.2.6.tar.gz (56 kB)\n",
            "\u001b[2K     \u001b[90m━━━━━━━━━━━━━━━━━━━━━━━━━━━━━━━━━━━━━━━━\u001b[0m \u001b[32m56.8/56.8 kB\u001b[0m \u001b[31m3.8 MB/s\u001b[0m eta \u001b[36m0:00:00\u001b[0m\n",
            "\u001b[?25h  Preparing metadata (setup.py) ... \u001b[?25l\u001b[?25hdone\n",
            "Requirement already satisfied: numpy<2.0.0,>=1.7 in /usr/local/lib/python3.10/dist-packages (from Gpy) (1.26.4)\n",
            "Requirement already satisfied: six in /usr/local/lib/python3.10/dist-packages (from Gpy) (1.16.0)\n",
            "Collecting paramz>=0.9.6 (from Gpy)\n",
            "  Downloading paramz-0.9.6-py3-none-any.whl.metadata (1.4 kB)\n",
            "Requirement already satisfied: cython>=0.29 in /usr/local/lib/python3.10/dist-packages (from Gpy) (3.0.11)\n",
            "Requirement already satisfied: scipy<=1.12.0,>=1.3.0 in /usr/local/lib/python3.10/dist-packages (from Gpy) (1.10.0)\n",
            "Requirement already satisfied: decorator>=4.0.10 in /usr/local/lib/python3.10/dist-packages (from paramz>=0.9.6->Gpy) (4.4.2)\n",
            "Downloading GPy-1.13.2-cp310-cp310-manylinux_2_17_x86_64.manylinux2014_x86_64.whl (3.6 MB)\n",
            "\u001b[2K   \u001b[90m━━━━━━━━━━━━━━━━━━━━━━━━━━━━━━━━━━━━━━━━\u001b[0m \u001b[32m3.6/3.6 MB\u001b[0m \u001b[31m52.5 MB/s\u001b[0m eta \u001b[36m0:00:00\u001b[0m\n",
            "\u001b[?25hDownloading paramz-0.9.6-py3-none-any.whl (103 kB)\n",
            "\u001b[2K   \u001b[90m━━━━━━━━━━━━━━━━━━━━━━━━━━━━━━━━━━━━━━━━\u001b[0m \u001b[32m103.2/103.2 kB\u001b[0m \u001b[31m7.2 MB/s\u001b[0m eta \u001b[36m0:00:00\u001b[0m\n",
            "\u001b[?25hBuilding wheels for collected packages: GPyOpt\n",
            "  Building wheel for GPyOpt (setup.py) ... \u001b[?25l\u001b[?25hdone\n",
            "  Created wheel for GPyOpt: filename=GPyOpt-1.2.6-py3-none-any.whl size=83602 sha256=d0fae4d27a06754b4ddb98587789c1603e00f6ea4df46ef5884d548b7119244c\n",
            "  Stored in directory: /root/.cache/pip/wheels/72/17/52/9d818b4c60f733bf49d5cf82bc2758ebbdc57a0471137c37be\n",
            "Successfully built GPyOpt\n",
            "Installing collected packages: paramz, Gpy, GPyOpt\n",
            "Successfully installed GPyOpt-1.2.6 Gpy-1.13.2 paramz-0.9.6\n"
          ]
        }
      ],
      "source": [
        "!pip uninstall scipy -y\n",
        "!pip install scipy==1.10.0\n",
        "!pip install Gpy GPyOpt"
      ]
    },
    {
      "cell_type": "code",
      "source": [
        "import os\n",
        "os.kill(os.getpid(), 9)\n"
      ],
      "metadata": {
        "id": "fZ7LRX-Hs-Fr"
      },
      "execution_count": null,
      "outputs": []
    },
    {
      "cell_type": "code",
      "source": [
        "import pandas as pd\n",
        "import numpy as np\n",
        "import GPy\n",
        "import GPyOpt\n",
        "from google.colab import drive\n",
        "from sklearn.preprocessing import LabelEncoder, StandardScaler\n",
        "from sklearn.model_selection import train_test_split\n",
        "from sklearn.metrics import mean_squared_error, mean_absolute_error\n",
        "import matplotlib.pyplot as plt\n",
        "\n",
        "# Mount Google Drive\n",
        "drive.mount('/content/drive')\n",
        "\n",
        "# Load the dataset\n",
        "file_path = '/content/drive/MyDrive/data.csv'\n",
        "data = pd.read_csv(file_path)\n",
        "data = pd.read_csv(file_path)\n",
        "data=data[['TRANS DATE','MERCHANT NAME', 'CARD NUMBER', 'ORIGINAL GROSS AMT']]\n",
        "#data= data[data['ORIGINAL GROSS AMT'] < 500]\n",
        "data= data[data['ORIGINAL GROSS AMT'] > 0]\n",
        "\n",
        "# Drop rows with any remaining missing values\n",
        "data['TRANS DATE']=pd.to_datetime(data['TRANS DATE'], errors='coerce')\n",
        "data_cleaned = data.dropna()\n",
        "\n",
        "# Convert 'TRANS DATE' to datetime format and handle missing values in 'MERCHANT NAME'\n",
        "data['TRANS DATE'] = pd.to_datetime(data['TRANS DATE'], errors='coerce')\n",
        "data= data.loc[data['TRANS DATE']>'01-01-2020']\n",
        "data['MERCHANT NAME'] = data['MERCHANT NAME'].fillna('Unknown')\n",
        "\n",
        "Q1 = data['ORIGINAL GROSS AMT'].quantile(0.25)\n",
        "Q3 = data['ORIGINAL GROSS AMT'].quantile(0.75)\n",
        "\n",
        "# Calculate the IQR (Interquartile Range)\n",
        "IQR = Q3 - Q1\n",
        "\n",
        "# Define the outlier bounds\n",
        "lower_bound = Q1 - 1.5 * IQR\n",
        "upper_bound = Q3 + 1.5 * IQR\n",
        "\n",
        "# Filter out the outliers\n",
        "data= data[(data['ORIGINAL GROSS AMT'] >= lower_bound) & (data['ORIGINAL GROSS AMT'] <= upper_bound)]\n",
        "\n",
        "\n",
        "data['P ORIGINAL GROSS AMT'] = data.groupby('CARD NUMBER')['ORIGINAL GROSS AMT'].shift(1)\n",
        "data['P TRANS DATE'] = data.groupby('CARD NUMBER')['TRANS DATE'].shift(1)\n",
        "# Drop rows with any remaining missing values\n",
        "data_cleaned = data.dropna().copy()\n",
        "\n",
        "# Feature Engineering: Create time-related features\n",
        "data_cleaned['P_YEAR'] = data_cleaned['P TRANS DATE'].dt.year\n",
        "data_cleaned['P_MONTH'] = data_cleaned['P TRANS DATE'].dt.month\n",
        "data_cleaned['P_DAY'] = data_cleaned['P TRANS DATE'].dt.day\n",
        "data_cleaned['P_DAY_OF_WEEK'] = data_cleaned['P TRANS DATE'].dt.dayofweek\n",
        "data_cleaned = data_cleaned.dropna()#.copy()\n",
        "\n",
        "merchant_counts = data['MERCHANT NAME'].value_counts()\n",
        "rare_merchants = merchant_counts[merchant_counts < 5].index\n",
        "data['MERCHANT NAME'] = data['MERCHANT NAME'].replace(rare_merchants, 'Other')\n",
        "\n",
        "\n",
        "# Encode the categorical variable MERCHANT NAME\n",
        "le_merchant = LabelEncoder()\n",
        "data_cleaned['MERCHANT NAME'] = le_merchant.fit_transform(data_cleaned['MERCHANT NAME'])\n",
        "data_cleaned['P MERCHANT NAME'] = data_cleaned.groupby('CARD NUMBER')['MERCHANT NAME'].shift(1)\n",
        "data_cleaned = data_cleaned.dropna()\n",
        "\n",
        "# Splitting data into features and target variables\n",
        "unique_card_numbers = data_cleaned['CARD NUMBER'].unique()\n",
        "train_list = []\n",
        "test_list = []\n",
        "\n",
        "for card_number, group in data_cleaned.groupby('CARD NUMBER'):\n",
        "    # Determine the number of rows that will go into the test set (last 20%)\n",
        "    n_test = int(len(group) * 0.2)\n",
        "\n",
        "    # Split the group into train and test\n",
        "    train_list.append(group.iloc[:-n_test])  # All except the last 20%\n",
        "    test_list.append(group.iloc[-n_test:])   # Last 20%\n",
        "\n",
        "# Concatenate all the train and test groups into two DataFrames\n",
        "train_df = pd.concat(train_list)\n",
        "test_df = pd.concat(test_list)\n",
        "\n",
        "train_list = []\n",
        "test_list = []\n",
        "\n",
        "for card_number, group in data_cleaned.groupby('CARD NUMBER'):\n",
        "    # Determine the number of rows that will go into the test set (last 20%)\n",
        "    n_test = int(len(group) * 0.2)\n",
        "\n",
        "    # Ensure at least one sample is included in the test set if there are enough rows\n",
        "    if n_test == 0 and len(group) > 1:\n",
        "        n_test = 1\n",
        "\n",
        "    # Split the group into train and test\n",
        "    if n_test > 0:\n",
        "        train_list.append(group.iloc[:-n_test])  # All except the last 20%\n",
        "        test_list.append(group.iloc[-n_test:])   # Last 20%\n",
        "    else:\n",
        "        train_list.append(group)  # If n_test is 0, put all data in the training set\n",
        "\n",
        "# Concatenate all the train and test groups into two DataFrames\n",
        "train_df = pd.concat(train_list)\n",
        "test_df = pd.concat(test_list)\n",
        "\n",
        "# Reset index if needed\n",
        "train_df = train_df.reset_index(drop=True)\n",
        "test_df = test_df.reset_index(drop=True)\n",
        "X_train=train_df[['P_YEAR', 'P_MONTH', 'P_DAY', 'P_DAY_OF_WEEK', 'P MERCHANT NAME','P ORIGINAL GROSS AMT', 'CARD NUMBER']]#\n",
        "X_test=test_df[['P_YEAR', 'P_MONTH', 'P_DAY', 'P_DAY_OF_WEEK', 'P MERCHANT NAME','P ORIGINAL GROSS AMT', 'CARD NUMBER']]\n",
        "y_test=test_df['ORIGINAL GROSS AMT']\n",
        "y_train=train_df['ORIGINAL GROSS AMT']\n",
        "# Prepare feature matrix X and target vector y\n",
        "#X = data[['P_YEAR', 'P_MONTH', 'P_DAY', 'P_DAY_OF_WEEK', 'P MERCHANT NAME', 'CARD NUMBER']].values\n",
        "#y = data['ORIGINAL GROSS AMT'].values\n",
        "\n",
        "# Split data into training and testing sets\n",
        "#X_train, X_test, y_train, y_test = train_test_split(X, y, test_size=0.2, random_state=42)\n",
        "\n",
        "# Normalize features using StandardScaler\n",
        "scaler = StandardScaler()\n",
        "X_train = scaler.fit_transform(X_train)\n",
        "X_test = scaler.transform(X_test)"
      ],
      "metadata": {
        "colab": {
          "base_uri": "https://localhost:8080/"
        },
        "id": "w0qbAGrZtF9T",
        "outputId": "e1b9fe6c-652b-4d4d-e821-24eec0abff85"
      },
      "execution_count": 2,
      "outputs": [
        {
          "output_type": "stream",
          "name": "stdout",
          "text": [
            "Mounted at /content/drive\n"
          ]
        }
      ]
    },
    {
      "cell_type": "code",
      "source": [
        "\n",
        "# Define the function to optimize\n",
        "def gpr_optimize(params):\n",
        "    variance = params[0, 0]\n",
        "    lengthscale = params[0, 1]\n",
        "\n",
        "    kernel = GPy.kern.RBF(input_dim=X_train.shape[1],\n",
        "                          variance=variance,\n",
        "                          lengthscale=lengthscale)\n",
        "    model = GPy.models.GPRegression(X_train,\n",
        "                                    np.array(y_train)[:, None],\n",
        "                                    kernel)\n",
        "\n",
        "    model.optimize(messages=False)\n",
        "\n",
        "    # Predictions\n",
        "    y_pred, _ = model.predict(X_test)\n",
        "\n",
        "    # Return the negative mean squared error\n",
        "     #(since Bayesian optimization minimizes the function)\n",
        "    return mean_squared_error(y_test, y_pred)\n",
        "\n",
        "# Set the bounds for hyperparameters: variance and lengthscale\n",
        "bounds = [\n",
        "    {'name': 'variance', 'type': 'continuous', 'domain': (1e-2, 10)},\n",
        "    {'name': 'lengthscale', 'type': 'continuous', 'domain': (1e-2, 10)}\n",
        "]\n",
        "\n"
      ],
      "metadata": {
        "id": "NZ7d4537tJj-"
      },
      "execution_count": null,
      "outputs": []
    },
    {
      "cell_type": "code",
      "source": [
        "# Run Bayesian Optimization\n",
        "optimizer = GPyOpt.methods.BayesianOptimization(\n",
        "    f=gpr_optimize,\n",
        "    domain=bounds,\n",
        "    acquisition_type='EI',\n",
        "    exact_feval=True\n",
        ")\n",
        "\n",
        "optimizer.run_optimization(max_iter=50)\n",
        "\n",
        "# Get the best parameters\n",
        "best_variance = optimizer.X[np.argmin(optimizer.Y)][0]\n",
        "best_lengthscale = optimizer.X[np.argmin(optimizer.Y)][1]\n",
        "print(f\"Best Variance: {best_variance}\")\n",
        "print(f\"Best Lengthscale: {best_lengthscale}\")\n",
        "\n",
        "# Train the final model with optimized parameters\n",
        "optimized_kernel = GPy.kern.RBF(input_dim=X_train.shape[1],\n",
        "                                variance=best_variance,\n",
        "                                lengthscale=best_lengthscale)\n",
        "final_model = GPy.models.GPRegression(X_train,\n",
        "                                      np.array(y_train)[:, None],\n",
        "      # Convert y_train to a NumPy array before adding a new axis\n",
        "                                      optimized_kernel)\n",
        "\n",
        "# Optimize the final model\n",
        "final_model.optimize(messages=True)\n",
        "\n",
        "# Make predictions\n",
        "y_pred, y_var = final_model.predict(X_test)"
      ],
      "metadata": {
        "id": "IMpSMetKtMMh",
        "colab": {
          "base_uri": "https://localhost:8080/",
          "height": 360,
          "referenced_widgets": [
            "47357b8c52a54b3994fcafd6749bcbba",
            "e4be137d09d84413880baec5725d4778",
            "41413fa2283f4c188e52ecd48cc7ea4c",
            "6a0822b5923942da9c0bfea94fd4d35e",
            "6d1cc0405e6e4053bf4e19e10d4c2c23",
            "2fc35b7743cb4a758cd935478323f633",
            "5641e756becd4b5d9f4972909c9dfc21",
            "74874342053d45fc84fd9094707b230b",
            "d7ac0bfa50c147b18108874d7e5d09d4",
            "8bf79d20728342baa19d97d193e9ced9",
            "1fc1ad55fb3d4d2dbd50d55f51f0c31e",
            "027b60b4ba1d4aec902497fccce2fd81",
            "387dfafc59864634a43e6d5155449959",
            "34d4d92db77e4bcfa0251eda9f28c091",
            "0f1e1e7949e94f5fafdd2a1bf63f03af"
          ]
        },
        "outputId": "64de5f09-7c13-45b9-97cd-e68155e79904"
      },
      "execution_count": null,
      "outputs": [
        {
          "output_type": "stream",
          "name": "stdout",
          "text": [
            "Best Variance: 5.769384317990501\n",
            "Best Lengthscale: 10.0\n"
          ]
        },
        {
          "output_type": "display_data",
          "data": {
            "text/plain": [
              "HBox(children=(VBox(children=(IntProgress(value=0, max=1000), HTML(value=''))), Box(children=(HTML(value=''),)…"
            ],
            "application/vnd.jupyter.widget-view+json": {
              "version_major": 2,
              "version_minor": 0,
              "model_id": "47357b8c52a54b3994fcafd6749bcbba"
            }
          },
          "metadata": {}
        }
      ]
    },
    {
      "cell_type": "markdown",
      "source": [
        "Test Errors"
      ],
      "metadata": {
        "id": "dhmfw2PZunlL"
      }
    },
    {
      "cell_type": "code",
      "source": [
        "y_pred, y_var = final_model.predict(X_test)\n",
        "mse = mean_squared_error(y_test, y_pred)\n",
        "mae = mean_absolute_error(y_test, y_pred)\n",
        "rsme = mean_squared_error(y_test, y_pred, squared=False)\n",
        "print(f'Mean Squared Error: {mse}')\n",
        "print(f'Mean Absolute Error: {mae}')\n",
        "print(f'Root Mean Squared Error: {rsme}')\n",
        "\n"
      ],
      "metadata": {
        "colab": {
          "base_uri": "https://localhost:8080/"
        },
        "id": "8Vgi-K5ySQe7",
        "outputId": "96bfd2f6-affb-46e1-8c1c-0557caf7c277"
      },
      "execution_count": null,
      "outputs": [
        {
          "output_type": "stream",
          "name": "stdout",
          "text": [
            "Mean Squared Error: 1933.5256742336696\n",
            "Mean Absolute Error: 33.4851459595145\n",
            "Root Mean Squared Error: 43.9718736720835\n"
          ]
        }
      ]
    },
    {
      "cell_type": "markdown",
      "source": [
        "Train Errors"
      ],
      "metadata": {
        "id": "9PLXDJ6purSG"
      }
    },
    {
      "cell_type": "code",
      "source": [
        "y_pred_train, y_var = final_model.predict(X_train)\n",
        "\n",
        "mse_train=mean_squared_error(y_train, y_pred_train)\n",
        "mae_train=mean_absolute_error(y_train, y_pred_train)\n",
        "rsme_train=mean_squared_error(y_train, y_pred_train, squared=False)\n",
        "print(f'Mean Squared Error: {mse_train}')\n",
        "print(f'Mean Absolute Error: {mae_train}')\n",
        "print(f'Root Mean Squared Error: {rsme_train}')"
      ],
      "metadata": {
        "colab": {
          "base_uri": "https://localhost:8080/"
        },
        "id": "QpQgxgShP3eG",
        "outputId": "cbf9f38e-b22b-4495-b22d-d4eade622b6c"
      },
      "execution_count": null,
      "outputs": [
        {
          "output_type": "stream",
          "name": "stdout",
          "text": [
            "Mean Squared Error: 1993.893174300814\n",
            "Mean Absolute Error: 34.12412368304907\n",
            "Root Mean Squared Error: 44.653030964323285\n"
          ]
        }
      ]
    },
    {
      "cell_type": "markdown",
      "source": [
        "SAVE MODEL"
      ],
      "metadata": {
        "id": "lGAF43wBs5RY"
      }
    },
    {
      "cell_type": "code",
      "source": [
        "final_model.save_model(\"amt_gpr.zip\")\n",
        "import pickle\n",
        "\n",
        "# Save the model\n",
        "with open('/content/drive/My Drive/gpr_model.pkl', 'wb') as file:\n",
        "    pickle.dump(final_model, file)"
      ],
      "metadata": {
        "id": "_Be-2IXXWZ_-"
      },
      "execution_count": null,
      "outputs": []
    },
    {
      "cell_type": "code",
      "source": [
        "import joblib\n",
        "\n",
        "\n",
        "# Save the scaler to Google Drive\n",
        "joblib.dump(scaler, '/content/drive/MyDrive/scaler_amt.pkl')"
      ],
      "metadata": {
        "colab": {
          "base_uri": "https://localhost:8080/"
        },
        "id": "fbCNDpk-cE2h",
        "outputId": "e6f29411-9de7-4516-b9de-cdf2716cb44b"
      },
      "execution_count": null,
      "outputs": [
        {
          "output_type": "execute_result",
          "data": {
            "text/plain": [
              "['/content/drive/MyDrive/scaler_amt.pkl']"
            ]
          },
          "metadata": {},
          "execution_count": 5
        }
      ]
    }
  ]
}