{
  "nbformat": 4,
  "nbformat_minor": 0,
  "metadata": {
    "colab": {
      "provenance": []
    },
    "kernelspec": {
      "name": "python3",
      "display_name": "Python 3"
    },
    "language_info": {
      "name": "python"
    }
  },
  "cells": [
    {
      "cell_type": "code",
      "source": [
        "!pip install tensorflow==2.9.0 tensorflow-probability==0.16.0\n"
      ],
      "metadata": {
        "colab": {
          "base_uri": "https://localhost:8080/",
          "height": 1000
        },
        "id": "f9pA_tAjpLkM",
        "outputId": "f0d8cbcb-2181-4279-b432-c03999a7f41a",
        "collapsed": true
      },
      "execution_count": 1,
      "outputs": [
        {
          "output_type": "stream",
          "name": "stdout",
          "text": [
            "Collecting tensorflow==2.9.0\n",
            "  Downloading tensorflow-2.9.0-cp310-cp310-manylinux_2_17_x86_64.manylinux2014_x86_64.whl.metadata (3.0 kB)\n",
            "Collecting tensorflow-probability==0.16.0\n",
            "  Downloading tensorflow_probability-0.16.0-py2.py3-none-any.whl.metadata (13 kB)\n",
            "Requirement already satisfied: absl-py>=1.0.0 in /usr/local/lib/python3.10/dist-packages (from tensorflow==2.9.0) (1.4.0)\n",
            "Requirement already satisfied: astunparse>=1.6.0 in /usr/local/lib/python3.10/dist-packages (from tensorflow==2.9.0) (1.6.3)\n",
            "Collecting flatbuffers<2,>=1.12 (from tensorflow==2.9.0)\n",
            "  Downloading flatbuffers-1.12-py2.py3-none-any.whl.metadata (872 bytes)\n",
            "Collecting gast<=0.4.0,>=0.2.1 (from tensorflow==2.9.0)\n",
            "  Downloading gast-0.4.0-py3-none-any.whl.metadata (1.1 kB)\n",
            "Requirement already satisfied: google-pasta>=0.1.1 in /usr/local/lib/python3.10/dist-packages (from tensorflow==2.9.0) (0.2.0)\n",
            "Requirement already satisfied: grpcio<2.0,>=1.24.3 in /usr/local/lib/python3.10/dist-packages (from tensorflow==2.9.0) (1.64.1)\n",
            "Requirement already satisfied: h5py>=2.9.0 in /usr/local/lib/python3.10/dist-packages (from tensorflow==2.9.0) (3.11.0)\n",
            "Collecting keras<2.10.0,>=2.9.0rc0 (from tensorflow==2.9.0)\n",
            "  Downloading keras-2.9.0-py2.py3-none-any.whl.metadata (1.3 kB)\n",
            "Collecting keras-preprocessing>=1.1.1 (from tensorflow==2.9.0)\n",
            "  Downloading Keras_Preprocessing-1.1.2-py2.py3-none-any.whl.metadata (1.9 kB)\n",
            "Requirement already satisfied: libclang>=13.0.0 in /usr/local/lib/python3.10/dist-packages (from tensorflow==2.9.0) (18.1.1)\n",
            "Requirement already satisfied: numpy>=1.20 in /usr/local/lib/python3.10/dist-packages (from tensorflow==2.9.0) (1.26.4)\n",
            "Requirement already satisfied: opt-einsum>=2.3.2 in /usr/local/lib/python3.10/dist-packages (from tensorflow==2.9.0) (3.3.0)\n",
            "Requirement already satisfied: packaging in /usr/local/lib/python3.10/dist-packages (from tensorflow==2.9.0) (24.1)\n",
            "Requirement already satisfied: protobuf>=3.9.2 in /usr/local/lib/python3.10/dist-packages (from tensorflow==2.9.0) (3.20.3)\n",
            "Requirement already satisfied: setuptools in /usr/local/lib/python3.10/dist-packages (from tensorflow==2.9.0) (71.0.4)\n",
            "Requirement already satisfied: six>=1.12.0 in /usr/local/lib/python3.10/dist-packages (from tensorflow==2.9.0) (1.16.0)\n",
            "Collecting tensorboard<2.10,>=2.9 (from tensorflow==2.9.0)\n",
            "  Downloading tensorboard-2.9.1-py3-none-any.whl.metadata (1.9 kB)\n",
            "Requirement already satisfied: tensorflow-io-gcs-filesystem>=0.23.1 in /usr/local/lib/python3.10/dist-packages (from tensorflow==2.9.0) (0.37.1)\n",
            "Collecting tensorflow-estimator<2.10.0,>=2.9.0rc0 (from tensorflow==2.9.0)\n",
            "  Downloading tensorflow_estimator-2.9.0-py2.py3-none-any.whl.metadata (1.3 kB)\n",
            "Requirement already satisfied: termcolor>=1.1.0 in /usr/local/lib/python3.10/dist-packages (from tensorflow==2.9.0) (2.4.0)\n",
            "Requirement already satisfied: typing-extensions>=3.6.6 in /usr/local/lib/python3.10/dist-packages (from tensorflow==2.9.0) (4.12.2)\n",
            "Requirement already satisfied: wrapt>=1.11.0 in /usr/local/lib/python3.10/dist-packages (from tensorflow==2.9.0) (1.16.0)\n",
            "Requirement already satisfied: decorator in /usr/local/lib/python3.10/dist-packages (from tensorflow-probability==0.16.0) (4.4.2)\n",
            "Requirement already satisfied: cloudpickle>=1.3 in /usr/local/lib/python3.10/dist-packages (from tensorflow-probability==0.16.0) (2.2.1)\n",
            "Requirement already satisfied: dm-tree in /usr/local/lib/python3.10/dist-packages (from tensorflow-probability==0.16.0) (0.1.8)\n",
            "Requirement already satisfied: wheel<1.0,>=0.23.0 in /usr/local/lib/python3.10/dist-packages (from astunparse>=1.6.0->tensorflow==2.9.0) (0.44.0)\n",
            "Requirement already satisfied: google-auth<3,>=1.6.3 in /usr/local/lib/python3.10/dist-packages (from tensorboard<2.10,>=2.9->tensorflow==2.9.0) (2.27.0)\n",
            "Collecting google-auth-oauthlib<0.5,>=0.4.1 (from tensorboard<2.10,>=2.9->tensorflow==2.9.0)\n",
            "  Downloading google_auth_oauthlib-0.4.6-py2.py3-none-any.whl.metadata (2.7 kB)\n",
            "Requirement already satisfied: markdown>=2.6.8 in /usr/local/lib/python3.10/dist-packages (from tensorboard<2.10,>=2.9->tensorflow==2.9.0) (3.7)\n",
            "Collecting protobuf>=3.9.2 (from tensorflow==2.9.0)\n",
            "  Downloading protobuf-3.19.6-cp310-cp310-manylinux_2_17_x86_64.manylinux2014_x86_64.whl.metadata (787 bytes)\n",
            "Requirement already satisfied: requests<3,>=2.21.0 in /usr/local/lib/python3.10/dist-packages (from tensorboard<2.10,>=2.9->tensorflow==2.9.0) (2.32.3)\n",
            "Collecting tensorboard-data-server<0.7.0,>=0.6.0 (from tensorboard<2.10,>=2.9->tensorflow==2.9.0)\n",
            "  Downloading tensorboard_data_server-0.6.1-py3-none-manylinux2010_x86_64.whl.metadata (1.1 kB)\n",
            "Collecting tensorboard-plugin-wit>=1.6.0 (from tensorboard<2.10,>=2.9->tensorflow==2.9.0)\n",
            "  Downloading tensorboard_plugin_wit-1.8.1-py3-none-any.whl.metadata (873 bytes)\n",
            "Requirement already satisfied: werkzeug>=1.0.1 in /usr/local/lib/python3.10/dist-packages (from tensorboard<2.10,>=2.9->tensorflow==2.9.0) (3.0.4)\n",
            "Requirement already satisfied: cachetools<6.0,>=2.0.0 in /usr/local/lib/python3.10/dist-packages (from google-auth<3,>=1.6.3->tensorboard<2.10,>=2.9->tensorflow==2.9.0) (5.5.0)\n",
            "Requirement already satisfied: pyasn1-modules>=0.2.1 in /usr/local/lib/python3.10/dist-packages (from google-auth<3,>=1.6.3->tensorboard<2.10,>=2.9->tensorflow==2.9.0) (0.4.0)\n",
            "Requirement already satisfied: rsa<5,>=3.1.4 in /usr/local/lib/python3.10/dist-packages (from google-auth<3,>=1.6.3->tensorboard<2.10,>=2.9->tensorflow==2.9.0) (4.9)\n",
            "Requirement already satisfied: requests-oauthlib>=0.7.0 in /usr/local/lib/python3.10/dist-packages (from google-auth-oauthlib<0.5,>=0.4.1->tensorboard<2.10,>=2.9->tensorflow==2.9.0) (1.3.1)\n",
            "Requirement already satisfied: charset-normalizer<4,>=2 in /usr/local/lib/python3.10/dist-packages (from requests<3,>=2.21.0->tensorboard<2.10,>=2.9->tensorflow==2.9.0) (3.3.2)\n",
            "Requirement already satisfied: idna<4,>=2.5 in /usr/local/lib/python3.10/dist-packages (from requests<3,>=2.21.0->tensorboard<2.10,>=2.9->tensorflow==2.9.0) (3.8)\n",
            "Requirement already satisfied: urllib3<3,>=1.21.1 in /usr/local/lib/python3.10/dist-packages (from requests<3,>=2.21.0->tensorboard<2.10,>=2.9->tensorflow==2.9.0) (2.0.7)\n",
            "Requirement already satisfied: certifi>=2017.4.17 in /usr/local/lib/python3.10/dist-packages (from requests<3,>=2.21.0->tensorboard<2.10,>=2.9->tensorflow==2.9.0) (2024.8.30)\n",
            "Requirement already satisfied: MarkupSafe>=2.1.1 in /usr/local/lib/python3.10/dist-packages (from werkzeug>=1.0.1->tensorboard<2.10,>=2.9->tensorflow==2.9.0) (2.1.5)\n",
            "Requirement already satisfied: pyasn1<0.7.0,>=0.4.6 in /usr/local/lib/python3.10/dist-packages (from pyasn1-modules>=0.2.1->google-auth<3,>=1.6.3->tensorboard<2.10,>=2.9->tensorflow==2.9.0) (0.6.0)\n",
            "Requirement already satisfied: oauthlib>=3.0.0 in /usr/local/lib/python3.10/dist-packages (from requests-oauthlib>=0.7.0->google-auth-oauthlib<0.5,>=0.4.1->tensorboard<2.10,>=2.9->tensorflow==2.9.0) (3.2.2)\n",
            "Downloading tensorflow-2.9.0-cp310-cp310-manylinux_2_17_x86_64.manylinux2014_x86_64.whl (511.7 MB)\n",
            "\u001b[2K   \u001b[90m━━━━━━━━━━━━━━━━━━━━━━━━━━━━━━━━━━━━━━━━\u001b[0m \u001b[32m511.7/511.7 MB\u001b[0m \u001b[31m1.9 MB/s\u001b[0m eta \u001b[36m0:00:00\u001b[0m\n",
            "\u001b[?25hDownloading tensorflow_probability-0.16.0-py2.py3-none-any.whl (6.3 MB)\n",
            "\u001b[2K   \u001b[90m━━━━━━━━━━━━━━━━━━━━━━━━━━━━━━━━━━━━━━━━\u001b[0m \u001b[32m6.3/6.3 MB\u001b[0m \u001b[31m4.8 MB/s\u001b[0m eta \u001b[36m0:00:00\u001b[0m\n",
            "\u001b[?25hDownloading flatbuffers-1.12-py2.py3-none-any.whl (15 kB)\n",
            "Downloading gast-0.4.0-py3-none-any.whl (9.8 kB)\n",
            "Downloading keras-2.9.0-py2.py3-none-any.whl (1.6 MB)\n",
            "\u001b[2K   \u001b[90m━━━━━━━━━━━━━━━━━━━━━━━━━━━━━━━━━━━━━━━━\u001b[0m \u001b[32m1.6/1.6 MB\u001b[0m \u001b[31m5.1 MB/s\u001b[0m eta \u001b[36m0:00:00\u001b[0m\n",
            "\u001b[?25hDownloading Keras_Preprocessing-1.1.2-py2.py3-none-any.whl (42 kB)\n",
            "\u001b[2K   \u001b[90m━━━━━━━━━━━━━━━━━━━━━━━━━━━━━━━━━━━━━━━━\u001b[0m \u001b[32m42.6/42.6 kB\u001b[0m \u001b[31m2.6 MB/s\u001b[0m eta \u001b[36m0:00:00\u001b[0m\n",
            "\u001b[?25hDownloading tensorboard-2.9.1-py3-none-any.whl (5.8 MB)\n",
            "\u001b[2K   \u001b[90m━━━━━━━━━━━━━━━━━━━━━━━━━━━━━━━━━━━━━━━━\u001b[0m \u001b[32m5.8/5.8 MB\u001b[0m \u001b[31m4.6 MB/s\u001b[0m eta \u001b[36m0:00:00\u001b[0m\n",
            "\u001b[?25hDownloading protobuf-3.19.6-cp310-cp310-manylinux_2_17_x86_64.manylinux2014_x86_64.whl (1.1 MB)\n",
            "\u001b[2K   \u001b[90m━━━━━━━━━━━━━━━━━━━━━━━━━━━━━━━━━━━━━━━━\u001b[0m \u001b[32m1.1/1.1 MB\u001b[0m \u001b[31m3.8 MB/s\u001b[0m eta \u001b[36m0:00:00\u001b[0m\n",
            "\u001b[?25hDownloading tensorflow_estimator-2.9.0-py2.py3-none-any.whl (438 kB)\n",
            "\u001b[2K   \u001b[90m━━━━━━━━━━━━━━━━━━━━━━━━━━━━━━━━━━━━━━━━\u001b[0m \u001b[32m438.7/438.7 kB\u001b[0m \u001b[31m3.2 MB/s\u001b[0m eta \u001b[36m0:00:00\u001b[0m\n",
            "\u001b[?25hDownloading google_auth_oauthlib-0.4.6-py2.py3-none-any.whl (18 kB)\n",
            "Downloading tensorboard_data_server-0.6.1-py3-none-manylinux2010_x86_64.whl (4.9 MB)\n",
            "\u001b[2K   \u001b[90m━━━━━━━━━━━━━━━━━━━━━━━━━━━━━━━━━━━━━━━━\u001b[0m \u001b[32m4.9/4.9 MB\u001b[0m \u001b[31m2.5 MB/s\u001b[0m eta \u001b[36m0:00:00\u001b[0m\n",
            "\u001b[?25hDownloading tensorboard_plugin_wit-1.8.1-py3-none-any.whl (781 kB)\n",
            "\u001b[2K   \u001b[90m━━━━━━━━━━━━━━━━━━━━━━━━━━━━━━━━━━━━━━━━\u001b[0m \u001b[32m781.3/781.3 kB\u001b[0m \u001b[31m2.8 MB/s\u001b[0m eta \u001b[36m0:00:00\u001b[0m\n",
            "\u001b[?25hInstalling collected packages: tensorboard-plugin-wit, keras, flatbuffers, tensorflow-estimator, tensorboard-data-server, protobuf, keras-preprocessing, gast, tensorflow-probability, google-auth-oauthlib, tensorboard, tensorflow\n",
            "  Attempting uninstall: keras\n",
            "    Found existing installation: keras 3.4.1\n",
            "    Uninstalling keras-3.4.1:\n",
            "      Successfully uninstalled keras-3.4.1\n",
            "  Attempting uninstall: flatbuffers\n",
            "    Found existing installation: flatbuffers 24.3.25\n",
            "    Uninstalling flatbuffers-24.3.25:\n",
            "      Successfully uninstalled flatbuffers-24.3.25\n",
            "  Attempting uninstall: tensorboard-data-server\n",
            "    Found existing installation: tensorboard-data-server 0.7.2\n",
            "    Uninstalling tensorboard-data-server-0.7.2:\n",
            "      Successfully uninstalled tensorboard-data-server-0.7.2\n",
            "  Attempting uninstall: protobuf\n",
            "    Found existing installation: protobuf 3.20.3\n",
            "    Uninstalling protobuf-3.20.3:\n",
            "      Successfully uninstalled protobuf-3.20.3\n",
            "  Attempting uninstall: gast\n",
            "    Found existing installation: gast 0.6.0\n",
            "    Uninstalling gast-0.6.0:\n",
            "      Successfully uninstalled gast-0.6.0\n",
            "  Attempting uninstall: tensorflow-probability\n",
            "    Found existing installation: tensorflow-probability 0.24.0\n",
            "    Uninstalling tensorflow-probability-0.24.0:\n",
            "      Successfully uninstalled tensorflow-probability-0.24.0\n",
            "  Attempting uninstall: google-auth-oauthlib\n",
            "    Found existing installation: google-auth-oauthlib 1.2.1\n",
            "    Uninstalling google-auth-oauthlib-1.2.1:\n",
            "      Successfully uninstalled google-auth-oauthlib-1.2.1\n",
            "  Attempting uninstall: tensorboard\n",
            "    Found existing installation: tensorboard 2.17.0\n",
            "    Uninstalling tensorboard-2.17.0:\n",
            "      Successfully uninstalled tensorboard-2.17.0\n",
            "  Attempting uninstall: tensorflow\n",
            "    Found existing installation: tensorflow 2.17.0\n",
            "    Uninstalling tensorflow-2.17.0:\n",
            "      Successfully uninstalled tensorflow-2.17.0\n",
            "\u001b[31mERROR: pip's dependency resolver does not currently take into account all the packages that are installed. This behaviour is the source of the following dependency conflicts.\n",
            "cudf-cu12 24.4.1 requires protobuf<5,>=3.20, but you have protobuf 3.19.6 which is incompatible.\n",
            "google-cloud-aiplatform 1.64.0 requires protobuf!=4.21.0,!=4.21.1,!=4.21.2,!=4.21.3,!=4.21.4,!=4.21.5,<6.0.0dev,>=3.20.2, but you have protobuf 3.19.6 which is incompatible.\n",
            "google-cloud-bigquery-connection 1.15.5 requires protobuf!=4.21.0,!=4.21.1,!=4.21.2,!=4.21.3,!=4.21.4,!=4.21.5,<6.0.0dev,>=3.20.2, but you have protobuf 3.19.6 which is incompatible.\n",
            "google-cloud-bigtable 2.26.0 requires protobuf!=4.21.0,!=4.21.1,!=4.21.2,!=4.21.3,!=4.21.4,!=4.21.5,<6.0.0dev,>=3.20.2, but you have protobuf 3.19.6 which is incompatible.\n",
            "google-cloud-functions 1.16.5 requires protobuf!=4.21.0,!=4.21.1,!=4.21.2,!=4.21.3,!=4.21.4,!=4.21.5,<6.0.0dev,>=3.20.2, but you have protobuf 3.19.6 which is incompatible.\n",
            "google-cloud-iam 2.15.2 requires protobuf!=4.21.0,!=4.21.1,!=4.21.2,!=4.21.3,!=4.21.4,!=4.21.5,<6.0.0dev,>=3.20.2, but you have protobuf 3.19.6 which is incompatible.\n",
            "google-cloud-language 2.13.4 requires protobuf!=4.21.0,!=4.21.1,!=4.21.2,!=4.21.3,!=4.21.4,!=4.21.5,<6.0.0dev,>=3.20.2, but you have protobuf 3.19.6 which is incompatible.\n",
            "google-cloud-pubsub 2.23.0 requires protobuf!=4.21.0,!=4.21.1,!=4.21.2,!=4.21.3,!=4.21.4,!=4.21.5,<6.0.0dev,>=3.20.2, but you have protobuf 3.19.6 which is incompatible.\n",
            "google-cloud-resource-manager 1.12.5 requires protobuf!=4.21.0,!=4.21.1,!=4.21.2,!=4.21.3,!=4.21.4,!=4.21.5,<6.0.0dev,>=3.20.2, but you have protobuf 3.19.6 which is incompatible.\n",
            "google-cloud-translate 3.15.5 requires protobuf!=4.21.0,!=4.21.1,!=4.21.2,!=4.21.3,!=4.21.4,!=4.21.5,<6.0.0dev,>=3.20.2, but you have protobuf 3.19.6 which is incompatible.\n",
            "googleapis-common-protos 1.65.0 requires protobuf!=3.20.0,!=3.20.1,!=4.21.1,!=4.21.2,!=4.21.3,!=4.21.4,!=4.21.5,<6.0.0.dev0,>=3.20.2, but you have protobuf 3.19.6 which is incompatible.\n",
            "grpc-google-iam-v1 0.13.1 requires protobuf!=4.21.1,!=4.21.2,!=4.21.3,!=4.21.4,!=4.21.5,<6.0.0dev,>=3.20.2, but you have protobuf 3.19.6 which is incompatible.\n",
            "pandas-gbq 0.23.1 requires google-auth-oauthlib>=0.7.0, but you have google-auth-oauthlib 0.4.6 which is incompatible.\n",
            "tensorflow-datasets 4.9.6 requires protobuf>=3.20, but you have protobuf 3.19.6 which is incompatible.\n",
            "tensorflow-metadata 1.15.0 requires protobuf<4.21,>=3.20.3; python_version < \"3.11\", but you have protobuf 3.19.6 which is incompatible.\n",
            "tf-keras 2.17.0 requires tensorflow<2.18,>=2.17, but you have tensorflow 2.9.0 which is incompatible.\u001b[0m\u001b[31m\n",
            "\u001b[0mSuccessfully installed flatbuffers-1.12 gast-0.4.0 google-auth-oauthlib-0.4.6 keras-2.9.0 keras-preprocessing-1.1.2 protobuf-3.19.6 tensorboard-2.9.1 tensorboard-data-server-0.6.1 tensorboard-plugin-wit-1.8.1 tensorflow-2.9.0 tensorflow-estimator-2.9.0 tensorflow-probability-0.16.0\n"
          ]
        },
        {
          "output_type": "display_data",
          "data": {
            "application/vnd.colab-display-data+json": {
              "pip_warning": {
                "packages": [
                  "google"
                ]
              },
              "id": "eb42ec31458449fd81e4563c765ac864"
            }
          },
          "metadata": {}
        }
      ]
    },
    {
      "cell_type": "code",
      "source": [
        "import pandas as pd\n",
        "from sklearn.model_selection import train_test_split\n",
        "from sklearn.preprocessing import LabelEncoder\n",
        "from sklearn.linear_model import BayesianRidge\n",
        "from sklearn.naive_bayes import GaussianNB\n",
        "from sklearn.metrics import mean_squared_error, mean_absolute_error, accuracy_score\n",
        "from google.colab import drive\n",
        "from sklearn.preprocessing import KBinsDiscretizer\n"
      ],
      "metadata": {
        "id": "Ajk-cNrkFPRn"
      },
      "execution_count": 1,
      "outputs": []
    },
    {
      "cell_type": "code",
      "source": [
        "drive.mount('/content/drive')\n",
        "file_path = '/content/drive/MyDrive/data.csv'\n",
        "# Load the dataset\n",
        "\n",
        "data = pd.read_csv(file_path)\n",
        "data=data[['TRANS DATE','MERCHANT NAME', 'CARD NUMBER', 'ORIGINAL GROSS AMT']]\n",
        "#data= data[data['ORIGINAL GROSS AMT'] < 500]\n",
        "data= data[data['ORIGINAL GROSS AMT'] > 0]\n",
        "\n",
        "# Drop rows with any remaining missing values\n",
        "data['TRANS DATE']=pd.to_datetime(data['TRANS DATE'], errors='coerce')\n",
        "data_cleaned = data.dropna()\n",
        "\n",
        "# Convert 'TRANS DATE' to datetime format and handle missing values in 'MERCHANT NAME'\n",
        "data['TRANS DATE'] = pd.to_datetime(data['TRANS DATE'], errors='coerce')\n",
        "data= data.loc[data['TRANS DATE']>'01-01-2020']\n",
        "data['MERCHANT NAME'] = data['MERCHANT NAME'].fillna('Unknown')\n",
        "\n",
        "Q1 = data['ORIGINAL GROSS AMT'].quantile(0.25)\n",
        "Q3 = data['ORIGINAL GROSS AMT'].quantile(0.75)\n",
        "\n",
        "# Calculate the IQR (Interquartile Range)\n",
        "IQR = Q3 - Q1\n",
        "\n",
        "# Define the outlier bounds\n",
        "lower_bound = Q1 - 1.5 * IQR\n",
        "upper_bound = Q3 + 1.5 * IQR\n",
        "\n",
        "# Filter out the outliers\n",
        "data= data[(data['ORIGINAL GROSS AMT'] >= lower_bound) & (data['ORIGINAL GROSS AMT'] <= upper_bound)]\n",
        "\n",
        "\n",
        "from sklearn.preprocessing import KBinsDiscretizer\n",
        "kb = KBinsDiscretizer(n_bins=50, encode='ordinal', strategy='uniform')\n",
        "data['ORIGINAL GROSS AMT BIN'] = kb.fit_transform(data[['ORIGINAL GROSS AMT']])\n",
        "data['P ORIGINAL GROSS AMT BIN'] = data.groupby('CARD NUMBER')['ORIGINAL GROSS AMT BIN'].shift(1)\n",
        "\n",
        "\n",
        "data['P ORIGINAL GROSS AMT'] = data.groupby('CARD NUMBER')['ORIGINAL GROSS AMT'].shift(1)\n",
        "data['P TRANS DATE'] = data.groupby('CARD NUMBER')['TRANS DATE'].shift(1)\n",
        "# Drop rows with any remaining missing values\n",
        "data_cleaned = data.dropna().copy()\n",
        "\n",
        "# Feature Engineering: Create time-related features\n",
        "data_cleaned['P_YEAR'] = data_cleaned['P TRANS DATE'].dt.year\n",
        "data_cleaned['P_MONTH'] = data_cleaned['P TRANS DATE'].dt.month\n",
        "data_cleaned['P_DAY'] = data_cleaned['P TRANS DATE'].dt.day\n",
        "data_cleaned['P_DAY_OF_WEEK'] = data_cleaned['P TRANS DATE'].dt.dayofweek\n",
        "data_cleaned = data_cleaned.dropna()#.copy()\n",
        "\n",
        "merchant_counts = data['MERCHANT NAME'].value_counts()\n",
        "rare_merchants = merchant_counts[merchant_counts < 10].index\n",
        "data['MERCHANT NAME'] = data['MERCHANT NAME'].replace(rare_merchants, 'Other')\n",
        "\n",
        "\n",
        "# Encode the categorical variable MERCHANT NAME\n",
        "le_merchant = LabelEncoder()\n",
        "data_cleaned['MERCHANT NAME'] = le_merchant.fit_transform(data_cleaned['MERCHANT NAME'])\n",
        "data_cleaned['P MERCHANT NAME'] = data_cleaned.groupby('CARD NUMBER')['MERCHANT NAME'].shift(1)\n",
        "data_cleaned = data_cleaned.dropna()\n",
        "\n",
        "# Splitting data into features and target variables\n",
        "unique_card_numbers = data_cleaned['CARD NUMBER'].unique()\n",
        "train_list = []\n",
        "test_list = []\n",
        "\n",
        "for card_number, group in data_cleaned.groupby('CARD NUMBER'):\n",
        "    # Determine the number of rows that will go into the test set (last 20%)\n",
        "    n_test = int(len(group) * 0.2)\n",
        "\n",
        "    # Split the group into train and test\n",
        "    train_list.append(group.iloc[:-n_test])  # All except the last 20%\n",
        "    test_list.append(group.iloc[-n_test:])   # Last 20%\n",
        "\n",
        "# Concatenate all the train and test groups into two DataFrames\n",
        "train_df = pd.concat(train_list)\n",
        "test_df = pd.concat(test_list)\n",
        "\n",
        "train_list = []\n",
        "test_list = []\n",
        "\n",
        "for card_number, group in data_cleaned.groupby('CARD NUMBER'):\n",
        "    # Determine the number of rows that will go into the test set (last 20%)\n",
        "    n_test = int(len(group) * 0.2)\n",
        "\n",
        "    # Ensure at least one sample is included in the test set if there are enough rows\n",
        "    if n_test == 0 and len(group) > 1:\n",
        "        n_test = 1\n",
        "\n",
        "    # Split the group into train and test\n",
        "    if n_test > 0:\n",
        "        train_list.append(group.iloc[:-n_test])  # All except the last 20%\n",
        "        test_list.append(group.iloc[-n_test:])   # Last 20%\n",
        "    else:\n",
        "        train_list.append(group)  # If n_test is 0, put all data in the training set\n",
        "\n",
        "# Concatenate all the train and test groups into two DataFrames\n",
        "train_df = pd.concat(train_list)\n",
        "test_df = pd.concat(test_list)\n",
        "\n",
        "# Reset index if needed\n",
        "train_df = train_df.reset_index(drop=True)\n",
        "test_df = test_df.reset_index(drop=True)\n",
        "\n",
        "X_mer_train=train_df.drop(columns=['TRANS DATE','MERCHANT NAME','P TRANS DATE','ORIGINAL GROSS AMT','ORIGINAL GROSS AMT BIN'])#\n",
        "X_mer_test=test_df.drop(columns=['TRANS DATE','MERCHANT NAME','P TRANS DATE','ORIGINAL GROSS AMT','ORIGINAL GROSS AMT BIN'])\n",
        "y_mer_test=test_df['MERCHANT NAME'].values\n",
        "y_mer_train=train_df['MERCHANT NAME'].values\n",
        "\n",
        "print(X_mer_train.shape)\n",
        "print(X_mer_test.shape)\n",
        "print(y_mer_test.shape)\n",
        "print(y_mer_train.shape)"
      ],
      "metadata": {
        "colab": {
          "base_uri": "https://localhost:8080/"
        },
        "id": "4L3nHjl0FKV8",
        "outputId": "ae43eedc-07e4-4c13-dd87-08bdd3bb348b"
      },
      "execution_count": 2,
      "outputs": [
        {
          "output_type": "stream",
          "name": "stdout",
          "text": [
            "Mounted at /content/drive\n"
          ]
        },
        {
          "output_type": "stream",
          "name": "stderr",
          "text": [
            "/usr/local/lib/python3.10/dist-packages/sklearn/preprocessing/_discretization.py:248: FutureWarning: In version 1.5 onwards, subsample=200_000 will be used by default. Set subsample explicitly to silence this warning in the mean time. Set subsample=None to disable subsampling explicitly.\n",
            "  warnings.warn(\n"
          ]
        },
        {
          "output_type": "stream",
          "name": "stdout",
          "text": [
            "(30367, 8)\n",
            "(7562, 8)\n",
            "(7562,)\n",
            "(30367,)\n"
          ]
        }
      ]
    },
    {
      "cell_type": "code",
      "source": [
        "import matplotlib.pyplot as plt\n",
        "\n",
        "# Select three card numbers for visualization\n",
        "selected_card_numbers = unique_card_numbers[:3]\n",
        "\n",
        "# Create a figure for test train division\n",
        "fig, axes = plt.subplots(figsize=(8, 5))\n",
        "\n",
        "# Get data for the specific card number\n",
        "card_train_data = train_df[train_df['CARD NUMBER'] == 3195]\n",
        "card_test_data = test_df[test_df['CARD NUMBER'] == card_number]\n",
        "\n",
        "# Plot training data\n",
        "plt.plot(card_train_data['TRANS DATE'], card_train_data['ORIGINAL GROSS AMT'], color='blue', label='Train') # Use plt.plot\n",
        "\n",
        "\n",
        "# Plot testing data\n",
        "plt.plot(card_test_data['TRANS DATE'], card_test_data['ORIGINAL GROSS AMT'], color='orange', label='Test') # Use plt.plot\n",
        "\n",
        "\n",
        "# Set title and labels\n",
        "plt.title(f'Card Number: {card_number}') # Use plt.title\n",
        "plt.xlabel('Transaction Date') # Use plt.xlabel\n",
        "plt.ylabel('Original Gross Amount') # Use plt.ylabel\n",
        "plt.legend() # Use plt.legend\n",
        "\n",
        "plt.tight_layout()\n",
        "plt.show()\n",
        "#plt.figure.savefig(\"test_train_plot.pdf\") # Use plt.figure"
      ],
      "metadata": {
        "colab": {
          "base_uri": "https://localhost:8080/",
          "height": 507
        },
        "id": "2Ra88mKif1nk",
        "outputId": "6f862fc6-948b-4ca0-e3a4-35937169f7a2"
      },
      "execution_count": null,
      "outputs": [
        {
          "output_type": "display_data",
          "data": {
            "text/plain": [
              "<Figure size 800x500 with 1 Axes>"
            ],
            "image/png": "[encoded data removed]"
          },
          "metadata": {}
        }
      ]
    },
    {
      "cell_type": "code",
      "source": [
        "file_path = '/content/drive/My Drive/le_merchant.pkl'\n",
        "import pickle\n",
        "# Save the fitted LabelEncoder using pickle\n",
        "with open(file_path, 'wb') as file:\n",
        "    pickle.dump(le_merchant, file)"
      ],
      "metadata": {
        "id": "PRMzrg6ZpgHW"
      },
      "execution_count": null,
      "outputs": []
    },
    {
      "cell_type": "code",
      "source": [
        "file_path = '/content/drive/My Drive/kbins_discretizer.pkl'\n",
        "\n",
        "# Save the fitted KBinsDiscretizer\n",
        "joblib.dump(kb, file_path)"
      ],
      "metadata": {
        "colab": {
          "base_uri": "https://localhost:8080/"
        },
        "id": "5IFC7QOek-SK",
        "outputId": "9c5fd60b-a53e-4ac1-82f2-468bbb1eb82e"
      },
      "execution_count": null,
      "outputs": [
        {
          "output_type": "execute_result",
          "data": {
            "text/plain": [
              "['/content/drive/My Drive/kbins_discretizer.pkl']"
            ]
          },
          "metadata": {},
          "execution_count": 11
        }
      ]
    },
    {
      "cell_type": "markdown",
      "source": [
        "Categorical Naive Bayes"
      ],
      "metadata": {
        "id": "l2NI08GwF7S_"
      }
    },
    {
      "cell_type": "code",
      "source": [
        "\n",
        "X_mer_train=train_df.drop(columns=['TRANS DATE','MERCHANT NAME','P TRANS DATE','ORIGINAL GROSS AMT','ORIGINAL GROSS AMT BIN','P ORIGINAL GROSS AMT', \"P_DAY_OF_WEEK\"])#\n",
        "X_mer_test=test_df.drop(columns=['TRANS DATE','MERCHANT NAME','P TRANS DATE','ORIGINAL GROSS AMT','ORIGINAL GROSS AMT BIN','P ORIGINAL GROSS AMT', \"P_DAY_OF_WEEK\"])\n"
      ],
      "metadata": {
        "id": "JIGWTiFdG6lP"
      },
      "execution_count": null,
      "outputs": []
    },
    {
      "cell_type": "code",
      "source": [
        "from sklearn.model_selection import GridSearchCV\n",
        "from sklearn.naive_bayes import CategoricalNB\n",
        "from sklearn.metrics import accuracy_score\n",
        "\n",
        "\n",
        "# Define the hyperparameter grid\n",
        "param_grid = {\n",
        "    'alpha': [0.1, 0.5, 1.0, 2.0, 5.0, 10.0]  # Smoothing parameter\n",
        "}\n",
        "\n",
        "# Initialize the CategoricalNB model\n",
        "model = CategoricalNB()\n",
        "\n",
        "# Set up the GridSearchCV with 5-fold cross-validation\n",
        "grid_search = GridSearchCV(estimator=model, param_grid=param_grid,\n",
        "                           cv=5, scoring='accuracy', n_jobs=-1)\n",
        "\n",
        "# Fit the grid search to the data\n",
        "grid_search.fit(X_mer_train, y_mer_train)\n",
        "\n",
        "\n",
        "# Get the best parameters and best score\n",
        "best_params = grid_search.best_params_\n",
        "best_score = grid_search.best_score_\n",
        "\n",
        "# Print the best hyperparameters\n",
        "print(f\"Best hyperparameters: {best_params}\")\n",
        "print(f\"Best cross-validation accuracy: {best_score:.2f}\")\n",
        "\n",
        "# Evaluate the best model on the test set\n",
        "best_model = grid_search.best_estimator_\n",
        "\n",
        "# Predict on the test set\n",
        "y_merchant_pred =  best_model.predict(X_mer_test)\n",
        "y_merchant_pred_train = best_model.predict(X_mer_train)\n",
        "\n",
        "test_accuracy = accuracy_score(y_mer_test, y_merchant_pred)\n",
        "\n",
        "print(f\"Test set accuracy with best model: {test_accuracy:.2f}\")\n"
      ],
      "metadata": {
        "colab": {
          "base_uri": "https://localhost:8080/"
        },
        "id": "387KEJP8F_O3",
        "outputId": "c37d00ba-cb2d-4437-8ba5-cf26f8e03ef6"
      },
      "execution_count": null,
      "outputs": [
        {
          "output_type": "stream",
          "name": "stderr",
          "text": [
            "/usr/local/lib/python3.10/dist-packages/sklearn/model_selection/_split.py:737: UserWarning: The least populated class in y has only 1 members, which is less than n_splits=5.\n",
            "  warnings.warn(\n",
            "/usr/local/lib/python3.10/dist-packages/sklearn/model_selection/_search.py:979: UserWarning: One or more of the test scores are non-finite: [nan nan nan nan nan nan]\n",
            "  warnings.warn(\n"
          ]
        },
        {
          "output_type": "stream",
          "name": "stdout",
          "text": [
            "Best hyperparameters: {'alpha': 0.1}\n",
            "Best cross-validation accuracy: nan\n",
            "Test set accuracy with best model: 0.49\n"
          ]
        }
      ]
    },
    {
      "cell_type": "code",
      "source": [
        "import joblib\n",
        "model_path = '/content/drive/My Drive/best_model.pkl'\n",
        "\n",
        "# Save the best model to the specified path\n",
        "joblib.dump(best_model, model_path)"
      ],
      "metadata": {
        "colab": {
          "base_uri": "https://localhost:8080/"
        },
        "id": "Z_h6x7P5g_Kt",
        "outputId": "89482850-c19c-4243-ddbc-e4c15f68d2a6"
      },
      "execution_count": null,
      "outputs": [
        {
          "output_type": "execute_result",
          "data": {
            "text/plain": [
              "['/content/drive/My Drive/best_model.pkl']"
            ]
          },
          "metadata": {},
          "execution_count": 10
        }
      ]
    },
    {
      "cell_type": "markdown",
      "source": [
        "Errors"
      ],
      "metadata": {
        "id": "WK-MVS3uGMcj"
      }
    },
    {
      "cell_type": "code",
      "source": [
        "from sklearn.metrics import accuracy_score, recall_score, precision_score, f1_score, confusion_matrix\n",
        "y_merchant_pred_train = best_model.predict(X_mer_train)\n",
        "# Evaluate the model for merchant name prediction\n",
        "accuracy_merchant = accuracy_score(y_mer_test, y_merchant_pred)\n",
        "accuracy_merchant_train = accuracy_score(y_mer_train, y_merchant_pred_train)\n",
        "\n",
        "# Calculate precision, F1 score, and confusion matrix\n",
        "precision_merchant = precision_score(y_mer_test, y_merchant_pred, average='weighted', zero_division=1)\n",
        "precision_merchant_train = precision_score(y_mer_train, y_merchant_pred_train, average='weighted', zero_division=1)\n",
        "f1_merchant = f1_score(y_mer_test, y_merchant_pred, average='weighted')\n",
        "f1_merchant_train = f1_score(y_mer_train, y_merchant_pred_train, average='weighted')\n",
        "\n",
        "\n",
        "# Print the evaluation metrics\n",
        "print(f'Merchant Name Prediction - Accuracy (Test): {accuracy_merchant}')\n",
        "print(f'Merchant Name Prediction - Accuracy (Train): {accuracy_merchant_train}')\n",
        "print(f'Merchant Name Prediction - Precision (Test): {precision_merchant}')\n",
        "print(f'Merchant Name Prediction - F1 Score (Test): {f1_merchant}')\n",
        "print(f'Merchant Name Prediction - Precision (Train): {precision_merchant_train}')\n",
        "print(f'Merchant Name Prediction - F1 Score (Train): {f1_merchant_train}')\n"
      ],
      "metadata": {
        "colab": {
          "base_uri": "https://localhost:8080/"
        },
        "id": "lkyBtLBpGOcB",
        "outputId": "c471bda2-717c-4040-8368-505ea53fa2ed"
      },
      "execution_count": null,
      "outputs": [
        {
          "output_type": "stream",
          "name": "stdout",
          "text": [
            "Merchant Name Prediction - Accuracy (Test): 0.48968526844750065\n",
            "Merchant Name Prediction - Accuracy (Train): 0.567754470313169\n",
            "Merchant Name Prediction - Precision (Test): 0.6173692494257053\n",
            "Merchant Name Prediction - F1 Score (Test): 0.41065946681735294\n",
            "Merchant Name Prediction - Precision (Train): 0.6657053235228947\n",
            "Merchant Name Prediction - F1 Score (Train): 0.4900780413353902\n"
          ]
        }
      ]
    },
    {
      "cell_type": "markdown",
      "source": [
        "Guassian Naive Bayes"
      ],
      "metadata": {
        "id": "3s8QMCSbFHOs"
      }
    },
    {
      "cell_type": "code",
      "source": [
        "\n",
        "X_mer_train=train_df.drop(columns=['TRANS DATE','MERCHANT NAME','P TRANS DATE','ORIGINAL GROSS AMT','ORIGINAL GROSS AMT BIN','P ORIGINAL GROSS AMT BIN'])#\n",
        "X_mer_test=test_df.drop(columns=['TRANS DATE','MERCHANT NAME','P TRANS DATE','ORIGINAL GROSS AMT','ORIGINAL GROSS AMT BIN','P ORIGINAL GROSS AMT BIN'])\n"
      ],
      "metadata": {
        "id": "FV79NiFRJEc0"
      },
      "execution_count": 3,
      "outputs": []
    },
    {
      "cell_type": "code",
      "execution_count": null,
      "metadata": {
        "colab": {
          "base_uri": "https://localhost:8080/"
        },
        "id": "7mH--VF5D_ru",
        "outputId": "ef036ade-583e-4a18-b643-89e4772d919e"
      },
      "outputs": [
        {
          "output_type": "stream",
          "name": "stdout",
          "text": [
            "Fitting 5 folds for each of 100 candidates, totalling 500 fits\n"
          ]
        },
        {
          "output_type": "stream",
          "name": "stderr",
          "text": [
            "/usr/local/lib/python3.10/dist-packages/joblib/externals/loky/backend/fork_exec.py:38: RuntimeWarning: os.fork() was called. os.fork() is incompatible with multithreaded code, and JAX is multithreaded, so this will likely lead to a deadlock.\n",
            "  pid = os.fork()\n",
            "/usr/local/lib/python3.10/dist-packages/sklearn/model_selection/_split.py:737: UserWarning: The least populated class in y has only 1 members, which is less than n_splits=5.\n",
            "  warnings.warn(\n",
            "/usr/local/lib/python3.10/dist-packages/joblib/externals/loky/backend/fork_exec.py:38: RuntimeWarning: os.fork() was called. os.fork() is incompatible with multithreaded code, and JAX is multithreaded, so this will likely lead to a deadlock.\n",
            "  pid = os.fork()\n"
          ]
        }
      ],
      "source": [
        "from sklearn.naive_bayes import GaussianNB\n",
        "from sklearn.model_selection import GridSearchCV, RandomizedSearchCV\n",
        "from sklearn.metrics import accuracy_score\n",
        "import numpy as np\n",
        "from sklearn.preprocessing import MinMaxScaler\n",
        "\n",
        "# Normalize the selected columns\n",
        "columns_to_normalize = ['P_DAY', 'P_YEAR','P_MONTH','P_DAY_OF_WEEK','P ORIGINAL GROSS AMT']#,'ORIGINAL GROSS AMT'\n",
        "\n",
        "# Initialize the MinMaxScaler\n",
        "scaler = MinMaxScaler()\n",
        "\n",
        "# Fit and transform the selected columns\n",
        "X_mer_train[columns_to_normalize] = scaler.fit_transform(X_mer_train[columns_to_normalize])\n",
        "X_mer_test[columns_to_normalize] = scaler.transform(X_mer_test[columns_to_normalize])\n",
        "\n",
        "# Define the model\n",
        "model_merchant = GaussianNB()\n",
        "\n",
        "# Define the hyperparameters to tune\n",
        "param_grid = {\n",
        "    'var_smoothing': np.logspace(0, -9, num=100)\n",
        "}\n",
        "\n",
        "# Set up GridSearchCV or RandomizedSearchCV\n",
        "# Using GridSearchCV\n",
        "grid_search = GridSearchCV(estimator=model_merchant, param_grid=param_grid, cv=5, scoring='accuracy', verbose=1, n_jobs=-1)\n",
        "\n",
        "# For faster tuning, use RandomizedSearchCV instead of GridSearchCV\n",
        "# random_search = RandomizedSearchCV(estimator=model_merchant, param_distributions=param_grid, n_iter=30, cv=5, scoring='accuracy', verbose=1, n_jobs=-1)\n",
        "\n",
        "# Fit the model with hyperparameter tuning\n",
        "grid_search.fit(X_mer_train, y_mer_train)\n",
        "\n",
        "# Best model after hyperparameter tuning\n",
        "best_model = grid_search.best_estimator_\n",
        "\n",
        "# Predict on the test set with the best model\n",
        "y_merchant_pred = best_model.predict(X_mer_test)\n",
        "y_merchant_pred_train = best_model.predict(X_mer_train)\n",
        "\n"
      ]
    },
    {
      "cell_type": "markdown",
      "source": [
        "Errors"
      ],
      "metadata": {
        "id": "pPqZCS-jGVeH"
      }
    },
    {
      "cell_type": "code",
      "source": [
        "# Evaluate the model for merchant name prediction\n",
        "accuracy_merchant = accuracy_score(y_mer_test, y_merchant_pred)\n",
        "accuracy_merchant_train = accuracy_score(y_mer_train, y_merchant_pred_train)\n",
        "\n",
        "print(f'Best Parameters: {grid_search.best_params_}')\n",
        "print(f'Merchant Name Prediction - Accuracy: {accuracy_merchant}')\n",
        "print(f'Merchant Name Prediction - Accuracy Train: {accuracy_merchant_train}')\n",
        "from sklearn.metrics import accuracy_score, recall_score, precision_score, f1_score, confusion_matrix\n",
        "\n",
        "# Evaluate the model for merchant name prediction\n",
        "accuracy_merchant = accuracy_score(y_mer_test, y_merchant_pred)\n",
        "accuracy_merchant_train = accuracy_score(y_mer_train, y_merchant_pred_train)\n",
        "\n",
        "# Calculate recall, precision, F1 score, and confusion matrix\n",
        "precision_merchant = precision_score(y_mer_test, y_merchant_pred, average='weighted', zero_division=1)\n",
        "precision_merchant_train = precision_score(y_mer_train, y_merchant_pred_train, average='weighted', zero_division=1)\n",
        "f1_merchant = f1_score(y_mer_test, y_merchant_pred, average='weighted')\n",
        "f1_merchant_train = f1_score(y_mer_train, y_merchant_pred_train, average='weighted')\n",
        "\n",
        "\n",
        "# Print the evaluation metrics\n",
        "print(f'Merchant Name Prediction - Accuracy (Test): {accuracy_merchant}')\n",
        "print(f'Merchant Name Prediction - Accuracy (Train): {accuracy_merchant_train}')\n",
        "print(f'Merchant Name Prediction - Precision (Test): {precision_merchant}')\n",
        "print(f'Merchant Name Prediction - F1 Score (Test): {f1_merchant}')\n",
        "print(f'Merchant Name Prediction - Precision (Train): {precision_merchant_train}')\n",
        "print(f'Merchant Name Prediction - F1 Score (Train): {f1_merchant_train}')"
      ],
      "metadata": {
        "colab": {
          "base_uri": "https://localhost:8080/"
        },
        "id": "se7r0ABSFFHD",
        "outputId": "fc5d87d3-abf7-4ecc-9b08-1e9cf9982eae"
      },
      "execution_count": null,
      "outputs": [
        {
          "output_type": "stream",
          "name": "stdout",
          "text": [
            "Best Parameters: {'var_smoothing': 0.002848035868435802}\n",
            "Merchant Name Prediction - Accuracy: 0.42263951335625494\n",
            "Merchant Name Prediction - Accuracy Train: 0.4142325550762341\n",
            "Merchant Name Prediction - Accuracy (Test): 0.42263951335625494\n",
            "Merchant Name Prediction - Accuracy (Train): 0.4142325550762341\n",
            "Merchant Name Prediction - Precision (Test): 0.6849571820224394\n",
            "Merchant Name Prediction - F1 Score (Test): 0.29171574486184343\n",
            "Merchant Name Prediction - Precision (Train): 0.6896504146404078\n",
            "Merchant Name Prediction - F1 Score (Train): 0.2675173387286375\n"
          ]
        }
      ]
    },
    {
      "cell_type": "markdown",
      "source": [
        "Bayesain nueral network"
      ],
      "metadata": {
        "id": "17-p8rKxGYWZ"
      }
    },
    {
      "cell_type": "code",
      "source": [
        "import xarray as xr\n",
        "import tensorflow as tf\n",
        "import tensorflow_probability as tfp\n",
        "from tensorflow.keras.layers import Input\n",
        "from tensorflow.keras.models import Model\n",
        "from tensorflow.keras.layers import Dropout\n",
        "from tensorflow.keras.callbacks import EarlyStopping\n",
        "from tensorflow.keras import regularizers\n",
        "import numpy as np\n",
        "num_classes = len(np.unique(data_cleaned['MERCHANT NAME']))\n",
        "num_classes = np.int32(np.max(data_cleaned['MERCHANT NAME']) + 1)\n",
        "#y_date_train_encoded = label_encoder.fit_transform(y_date_train)\n",
        "# Alias for convenience\n",
        "tfpl = tfp.layers\n",
        "\n",
        "# Ensure X_mer_train_scaled is a TensorFlow tensor\n",
        "X_mer_train_scaled = tf.convert_to_tensor(X_mer_train, dtype=tf.float32)\n",
        "\n",
        "# Define the model architecture\n",
        "input_shape = (X_mer_train_scaled.shape[1],)\n",
        "inputs = Input(shape=input_shape)\n",
        "\n",
        "# Define Bayesian layers directly\n",
        "#x = tfpl.DenseFlipout(128, activation='relu',)(inputs)\n",
        "#x = Dropout(0.3)(x)\n",
        "x = tfpl.DenseFlipout(64, activation='relu',)(inputs)#(x)\n",
        "x = Dropout(0.5)(x)\n",
        "x = tfpl.DenseFlipout(32, activation='relu')(x)\n",
        "x = Dropout(0.5)(x)\n",
        "outputs = tfpl.DenseFlipout(num_classes, activation='softmax')(x)\n",
        "\n",
        "# Build the model\n",
        "model = Model(inputs=inputs, outputs=outputs)\n",
        "\n",
        "# Compile the model\n",
        "model.compile(optimizer='adam', loss=tf.keras.losses.SparseCategoricalCrossentropy(), metrics=['accuracy'])#tfpl.negative_log_likelihood()sparse_categorical_crossentropy\n",
        "early_stopping = EarlyStopping(\n",
        "    monitor='val_loss',  # Monitor validation loss\n",
        "    patience=5,          # Number of epochs with no improvement after which training will be stopped\n",
        "    restore_best_weights=True  # Restore the weights of the best epoch\n",
        ")\n",
        "# Train the model\n",
        "history = model.fit(\n",
        "    X_mer_train_scaled,  # Training features\n",
        "    y_mer_train,  # Training labels\n",
        "    epochs=50,            # Number of epochs\n",
        "    validation_split=0.2,  # Split 20% of the training data as validation data\n",
        "    batch_size=32,        # Batch size for training\n",
        "    verbose=1,            # Display progress during training\n",
        "    callbacks=[early_stopping])\n",
        "\n",
        "# Display the model summary\n",
        "model.summary()\n"
      ],
      "metadata": {
        "colab": {
          "base_uri": "https://localhost:8080/"
        },
        "id": "Qt342T9bGmxu",
        "outputId": "3160543b-ecc1-4b59-90ef-ed6e3d5a6a2f"
      },
      "execution_count": 4,
      "outputs": [
        {
          "output_type": "stream",
          "name": "stderr",
          "text": [
            "/usr/local/lib/python3.10/dist-packages/tensorflow_probability/python/layers/util.py:95: UserWarning: `layer.add_variable` is deprecated and will be removed in a future version. Please use the `layer.add_weight()` method instead.\n",
            "  loc = add_variable_fn(\n",
            "/usr/local/lib/python3.10/dist-packages/tensorflow_probability/python/layers/util.py:105: UserWarning: `layer.add_variable` is deprecated and will be removed in a future version. Please use the `layer.add_weight()` method instead.\n",
            "  untransformed_scale = add_variable_fn(\n"
          ]
        },
        {
          "output_type": "stream",
          "name": "stdout",
          "text": [
            "Epoch 1/50\n",
            "760/760 [==============================] - 21s 23ms/step - loss: 130181.0078 - accuracy: 0.2089 - val_loss: 108515.6797 - val_accuracy: 0.1791\n",
            "Epoch 2/50\n",
            "760/760 [==============================] - 13s 17ms/step - loss: 88137.7031 - accuracy: 0.3203 - val_loss: 68468.8906 - val_accuracy: 0.1791\n",
            "Epoch 3/50\n",
            "760/760 [==============================] - 14s 18ms/step - loss: 51256.8672 - accuracy: 0.3302 - val_loss: 35465.5312 - val_accuracy: 0.1793\n",
            "Epoch 4/50\n",
            "760/760 [==============================] - 19s 25ms/step - loss: 23531.4668 - accuracy: 0.3377 - val_loss: 13585.4893 - val_accuracy: 0.1793\n",
            "Epoch 5/50\n",
            "760/760 [==============================] - 13s 17ms/step - loss: 7822.3286 - accuracy: 0.3395 - val_loss: 3701.9077 - val_accuracy: 0.1793\n",
            "Epoch 6/50\n",
            "760/760 [==============================] - 13s 17ms/step - loss: 2152.5808 - accuracy: 0.3401 - val_loss: 1228.2506 - val_accuracy: 0.1793\n",
            "Epoch 7/50\n",
            "760/760 [==============================] - 14s 18ms/step - loss: 1051.8661 - accuracy: 0.3415 - val_loss: 904.4010 - val_accuracy: 0.1793\n",
            "Epoch 8/50\n",
            "760/760 [==============================] - 12s 15ms/step - loss: 902.2220 - accuracy: 0.3412 - val_loss: 834.4815 - val_accuracy: 0.1793\n",
            "Epoch 9/50\n",
            "760/760 [==============================] - 16s 21ms/step - loss: 857.3013 - accuracy: 0.3416 - val_loss: 794.9917 - val_accuracy: 0.1793\n",
            "Epoch 10/50\n",
            "760/760 [==============================] - 12s 16ms/step - loss: 809.7017 - accuracy: 0.3418 - val_loss: 761.4116 - val_accuracy: 0.1793\n",
            "Epoch 11/50\n",
            "760/760 [==============================] - 13s 17ms/step - loss: 784.7020 - accuracy: 0.3416 - val_loss: 735.6707 - val_accuracy: 0.1793\n",
            "Epoch 12/50\n",
            "760/760 [==============================] - 13s 17ms/step - loss: 765.4340 - accuracy: 0.3420 - val_loss: 712.7441 - val_accuracy: 0.1793\n",
            "Epoch 13/50\n",
            "760/760 [==============================] - 13s 17ms/step - loss: 744.8817 - accuracy: 0.3414 - val_loss: 693.1820 - val_accuracy: 0.1793\n",
            "Epoch 14/50\n",
            "760/760 [==============================] - 11s 14ms/step - loss: 728.7700 - accuracy: 0.3415 - val_loss: 675.9973 - val_accuracy: 0.1793\n",
            "Epoch 15/50\n",
            "760/760 [==============================] - 13s 17ms/step - loss: 711.8939 - accuracy: 0.3418 - val_loss: 660.6567 - val_accuracy: 0.1793\n",
            "Epoch 16/50\n",
            "760/760 [==============================] - 13s 17ms/step - loss: 693.2944 - accuracy: 0.3410 - val_loss: 646.8170 - val_accuracy: 0.1793\n",
            "Epoch 17/50\n",
            "760/760 [==============================] - 13s 17ms/step - loss: 690.8846 - accuracy: 0.3411 - val_loss: 636.5226 - val_accuracy: 0.1793\n",
            "Epoch 18/50\n",
            "760/760 [==============================] - 12s 16ms/step - loss: 678.7639 - accuracy: 0.3416 - val_loss: 626.6673 - val_accuracy: 0.1793\n",
            "Epoch 19/50\n",
            "760/760 [==============================] - 11s 15ms/step - loss: 669.3246 - accuracy: 0.3418 - val_loss: 617.4733 - val_accuracy: 0.1793\n",
            "Epoch 20/50\n",
            "760/760 [==============================] - 13s 17ms/step - loss: 659.9147 - accuracy: 0.3415 - val_loss: 608.6380 - val_accuracy: 0.1793\n",
            "Epoch 21/50\n",
            "760/760 [==============================] - 13s 17ms/step - loss: 641.4290 - accuracy: 0.3421 - val_loss: 599.1763 - val_accuracy: 0.1793\n",
            "Epoch 22/50\n",
            "760/760 [==============================] - 13s 17ms/step - loss: 628.2322 - accuracy: 0.3423 - val_loss: 586.4721 - val_accuracy: 0.1793\n",
            "Epoch 23/50\n",
            "760/760 [==============================] - 12s 16ms/step - loss: 644.4339 - accuracy: 0.3416 - val_loss: 580.9789 - val_accuracy: 0.1793\n",
            "Epoch 24/50\n",
            "760/760 [==============================] - 12s 15ms/step - loss: 632.0733 - accuracy: 0.3419 - val_loss: 574.0615 - val_accuracy: 0.1793\n",
            "Epoch 25/50\n",
            "760/760 [==============================] - 13s 17ms/step - loss: 607.7772 - accuracy: 0.3417 - val_loss: 563.6212 - val_accuracy: 0.1793\n",
            "Epoch 26/50\n",
            "760/760 [==============================] - 13s 17ms/step - loss: 601.0548 - accuracy: 0.3417 - val_loss: 553.2021 - val_accuracy: 0.1793\n",
            "Epoch 27/50\n",
            "760/760 [==============================] - 15s 19ms/step - loss: 602.5204 - accuracy: 0.3417 - val_loss: 548.1349 - val_accuracy: 0.1793\n",
            "Epoch 28/50\n",
            "760/760 [==============================] - 14s 19ms/step - loss: 598.2013 - accuracy: 0.3416 - val_loss: 544.5842 - val_accuracy: 0.1793\n",
            "Epoch 29/50\n",
            "760/760 [==============================] - 13s 17ms/step - loss: 592.3821 - accuracy: 0.3420 - val_loss: 539.8958 - val_accuracy: 0.1793\n",
            "Epoch 30/50\n",
            "760/760 [==============================] - 16s 21ms/step - loss: 587.6508 - accuracy: 0.3416 - val_loss: 534.0985 - val_accuracy: 0.1793\n",
            "Epoch 31/50\n",
            "760/760 [==============================] - 12s 15ms/step - loss: 585.3411 - accuracy: 0.3419 - val_loss: 530.1771 - val_accuracy: 0.1793\n",
            "Epoch 32/50\n",
            "760/760 [==============================] - 19s 26ms/step - loss: 582.6779 - accuracy: 0.3420 - val_loss: 529.7664 - val_accuracy: 0.1793\n",
            "Epoch 33/50\n",
            "760/760 [==============================] - 17s 23ms/step - loss: 584.9858 - accuracy: 0.3420 - val_loss: 526.1293 - val_accuracy: 0.1793\n",
            "Epoch 34/50\n",
            "760/760 [==============================] - 11s 15ms/step - loss: 586.8841 - accuracy: 0.3417 - val_loss: 522.5352 - val_accuracy: 0.1793\n",
            "Epoch 35/50\n",
            "760/760 [==============================] - 14s 18ms/step - loss: 565.8990 - accuracy: 0.3419 - val_loss: 515.9518 - val_accuracy: 0.1793\n",
            "Epoch 36/50\n",
            "760/760 [==============================] - 13s 17ms/step - loss: 565.8073 - accuracy: 0.3419 - val_loss: 511.9600 - val_accuracy: 0.1793\n",
            "Epoch 37/50\n",
            "760/760 [==============================] - 13s 17ms/step - loss: 562.0184 - accuracy: 0.3419 - val_loss: 506.1635 - val_accuracy: 0.1793\n",
            "Epoch 38/50\n",
            "760/760 [==============================] - 19s 25ms/step - loss: 558.4382 - accuracy: 0.3417 - val_loss: 504.3795 - val_accuracy: 0.1793\n",
            "Epoch 39/50\n",
            "760/760 [==============================] - 13s 17ms/step - loss: 550.9513 - accuracy: 0.3421 - val_loss: 501.5545 - val_accuracy: 0.1793\n",
            "Epoch 40/50\n",
            "760/760 [==============================] - 12s 16ms/step - loss: 564.2189 - accuracy: 0.3420 - val_loss: 499.4731 - val_accuracy: 0.1793\n",
            "Epoch 41/50\n",
            "760/760 [==============================] - 11s 15ms/step - loss: 555.5047 - accuracy: 0.3417 - val_loss: 498.0005 - val_accuracy: 0.1793\n",
            "Epoch 42/50\n",
            "760/760 [==============================] - 13s 18ms/step - loss: 565.5646 - accuracy: 0.3413 - val_loss: 498.8476 - val_accuracy: 0.1793\n",
            "Epoch 43/50\n",
            "760/760 [==============================] - 13s 18ms/step - loss: 551.1883 - accuracy: 0.3420 - val_loss: 494.0317 - val_accuracy: 0.1793\n",
            "Epoch 44/50\n",
            "760/760 [==============================] - 13s 18ms/step - loss: 575.3259 - accuracy: 0.3420 - val_loss: 494.0157 - val_accuracy: 0.1793\n",
            "Epoch 45/50\n",
            "760/760 [==============================] - 13s 16ms/step - loss: 562.1137 - accuracy: 0.3419 - val_loss: 490.8904 - val_accuracy: 0.1793\n",
            "Epoch 46/50\n",
            "760/760 [==============================] - 11s 15ms/step - loss: 559.9839 - accuracy: 0.3419 - val_loss: 490.3522 - val_accuracy: 0.1793\n",
            "Epoch 47/50\n",
            "760/760 [==============================] - 14s 18ms/step - loss: 559.0162 - accuracy: 0.3422 - val_loss: 489.3782 - val_accuracy: 0.1793\n",
            "Epoch 48/50\n",
            "760/760 [==============================] - 13s 17ms/step - loss: 538.7855 - accuracy: 0.3423 - val_loss: 485.3463 - val_accuracy: 0.1793\n",
            "Epoch 49/50\n",
            "760/760 [==============================] - 16s 20ms/step - loss: 540.4704 - accuracy: 0.3420 - val_loss: 482.7955 - val_accuracy: 0.1793\n",
            "Epoch 50/50\n",
            "760/760 [==============================] - 12s 15ms/step - loss: 549.0679 - accuracy: 0.3420 - val_loss: 483.0775 - val_accuracy: 0.1793\n",
            "Model: \"model\"\n",
            "_________________________________________________________________\n",
            " Layer (type)                Output Shape              Param #   \n",
            "=================================================================\n",
            " input_1 (InputLayer)        [(None, 7)]               0         \n",
            "                                                                 \n",
            " dense_flipout (DenseFlipout  (None, 64)               960       \n",
            " )                                                               \n",
            "                                                                 \n",
            " dropout (Dropout)           (None, 64)                0         \n",
            "                                                                 \n",
            " dense_flipout_1 (DenseFlipo  (None, 32)               4128      \n",
            " ut)                                                             \n",
            "                                                                 \n",
            " dropout_1 (Dropout)         (None, 32)                0         \n",
            "                                                                 \n",
            " dense_flipout_2 (DenseFlipo  (None, 1801)             117065    \n",
            " ut)                                                             \n",
            "                                                                 \n",
            "=================================================================\n",
            "Total params: 122,153\n",
            "Trainable params: 122,153\n",
            "Non-trainable params: 0\n",
            "_________________________________________________________________\n"
          ]
        }
      ]
    },
    {
      "cell_type": "code",
      "source": [
        "from tensorflow.keras.utils import plot_model\n",
        "\n",
        "# Plot the model structure and save it to a file\n",
        "plot_model(model, to_file='mer_bnn_hori.png', show_shapes=True, show_layer_names=True, rankdir='LR')\n"
      ],
      "metadata": {
        "colab": {
          "base_uri": "https://localhost:8080/",
          "height": 141
        },
        "id": "iyL7Qudu4zFA",
        "outputId": "3807b539-8038-41f7-edda-c6fb17838a20"
      },
      "execution_count": 5,
      "outputs": [
        {
          "output_type": "execute_result",
          "data": {
            "image/png": "[encoded data removed]",
            "text/plain": [
              "<IPython.core.display.Image object>"
            ]
          },
          "metadata": {},
          "execution_count": 5
        }
      ]
    },
    {
      "cell_type": "markdown",
      "source": [
        "Errors"
      ],
      "metadata": {
        "id": "sXwoMJaVGvYZ"
      }
    },
    {
      "cell_type": "code",
      "source": [
        "\n",
        "from sklearn.metrics import accuracy_score, recall_score, precision_score, f1_score\n",
        "X_mer_test_scaled = tf.convert_to_tensor(X_mer_test, dtype=tf.float32)\n",
        "\n",
        "y_merchant_pred_train=model.predict(X_mer_train_scaled)\n",
        "\n",
        "y_merchant_pred=model.predict(X_mer_test_scaled)\n",
        "y_merchant_pred=np.argmax(y_merchant_pred,axis=1)\n",
        "y_merchant_pred_train=np.argmax(y_merchant_pred_train,axis=1)\n",
        "accuracy_merchant = accuracy_score(y_mer_test, y_merchant_pred)\n",
        "accuracy_merchant_train = accuracy_score(y_mer_train, y_merchant_pred_train)\n",
        "\n",
        "# Calculate recall, precision, F1 score\n",
        "recall_merchant = recall_score(y_mer_test, y_merchant_pred, average='weighted')\n",
        "recall_merchant_train = recall_score(y_mer_train, y_merchant_pred_train, average='weighted')\n",
        "precision_merchant = precision_score(y_mer_test, y_merchant_pred, average='weighted', zero_division=1)\n",
        "precision_merchant_train = precision_score(y_mer_train, y_merchant_pred_train, average='weighted', zero_division=1)\n",
        "f1_merchant = f1_score(y_mer_test, y_merchant_pred, average='weighted')\n",
        "f1_merchant_train = f1_score(y_mer_train, y_merchant_pred_train, average='weighted')\n",
        "\n",
        "\n",
        "# Print the evaluation metrics\n",
        "print(f'Merchant Name Prediction - Accuracy (Test): {accuracy_merchant}')\n",
        "print(f'Merchant Name Prediction - Accuracy (Train): {accuracy_merchant_train}')\n",
        "print(f'Merchant Name Prediction - Recall (Test): {recall_merchant}')\n",
        "print(f'Merchant Name Prediction - Precision (Test): {precision_merchant}')\n",
        "print(f'Merchant Name Prediction - F1 Score (Test): {f1_merchant}')\n",
        "print(f'Merchant Name Prediction - Recall (Train): {recall_merchant_train}')\n",
        "print(f'Merchant Name Prediction - Precision (Train): {precision_merchant_train}')\n",
        "print(f'Merchant Name Prediction - F1 Score (Train): {f1_merchant_train}')\n"
      ],
      "metadata": {
        "colab": {
          "base_uri": "https://localhost:8080/"
        },
        "id": "xHLg-ArpGq70",
        "outputId": "3b794d1d-4704-413e-a61a-ebfb6515c76e"
      },
      "execution_count": null,
      "outputs": [
        {
          "output_type": "stream",
          "name": "stdout",
          "text": [
            "949/949 [==============================] - 8s 8ms/step\n",
            "237/237 [==============================] - 2s 10ms/step\n",
            "Merchant Name Prediction - Accuracy (Test): 0.3378735784184078\n",
            "Merchant Name Prediction - Accuracy (Train): 0.3105673922349919\n",
            "Merchant Name Prediction - Recall (Test): 0.3378735784184078\n",
            "Merchant Name Prediction - Precision (Test): 0.7762849765748522\n",
            "Merchant Name Prediction - F1 Score (Test): 0.17065671500623347\n",
            "Merchant Name Prediction - Recall (Train): 0.3105673922349919\n",
            "Merchant Name Prediction - Precision (Train): 0.7858847128846513\n",
            "Merchant Name Prediction - F1 Score (Train): 0.14719137022806217\n"
          ]
        }
      ]
    }
  ]
}